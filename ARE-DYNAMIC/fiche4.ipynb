{
 "cells": [
  {
   "cell_type": "markdown",
   "metadata": {},
   "source": [
    "# Méthode des moindres carrés - Détermination de la constante de Hubble\n",
    "\n",
    "Nous allons utiliser dans cette fiche les connaissances que vous avez acquises sur les librairies numpy et matplotlib. En suivant la progression proposée, vous devrez construire un code Python fonctionnel intégrant les fonctionnalités demandées. Ce code devra être commenté convenablement. Vous devrez aussi produire des figures de qualité et ayant tout le contenu (axes, légende... ) qui en font de bonnes figures scientifiques et tel que vous l’avez vu dans la fiche 2."
   ]
  },
  {
   "cell_type": "markdown",
   "metadata": {},
   "source": [
    "La méthode des moindres carrés est une méthode d'analyse de données. Très souvent, on est amené à comparer des données expérimentales, généralement entachées d'erreurs, avec un modèle mathématique. Ce modèle mathématique est décrit par un ensemble de fonctions $f(x,\\theta)$ d'une ou plusieurs variables physique $x$ et dépendant d'un certain nombre de paramètres dénotés $\\theta$. La méthode des moindres carrés proposés par le célèbre mathématicien Gauss au début du XIX\\ieme siècle permet de déterminer la valeur de ces paramètres $\\theta$ qui permet de reproduire au mieux les données expérimentales.\n",
    "Nous allons discuter et illustrer cette méthode pour la détermination de la constante de Hubble à partir de données de distance et de vitesse d'éloignement de 17 galaxies.\n"
   ]
  },
  {
   "cell_type": "markdown",
   "metadata": {},
   "source": [
    "## Préliminaires"
   ]
  },
  {
   "cell_type": "markdown",
   "metadata": {},
   "source": [
    "Le fichier [vitesses.txt](https://github.com/SergeStinckwich/ARE-UPMC/blob/master/ARE-DYNAMIC/vitesses.txt) contient les distances en megaparsec et les vitesses d’éloignement en km/s de 17 galaxies (source : Galaxies and Cosmology, Jones and Lambourne, page 243). On va lire\n",
    "ces données grâce à la fonction ```loadtxt``` de numpy :"
   ]
  },
  {
   "cell_type": "code",
   "execution_count": 4,
   "metadata": {
    "collapsed": true
   },
   "outputs": [],
   "source": [
    "import numpy as np\n",
    "\n",
    "d,v=np.loadtxt('vitesses.txt',skiprows=2,usecols=(0,1),unpack=True)\n"
   ]
  },
  {
   "cell_type": "code",
   "execution_count": 5,
   "metadata": {
    "collapsed": false
   },
   "outputs": [
    {
     "data": {
      "text/plain": [
       "(array([ 0.028,  0.076,  0.108,  0.136,  0.153,  0.226,  0.283,  0.359,\n",
       "         0.363,  0.408,  0.438,  0.472,  0.476,  0.476,  0.493,  0.556,\n",
       "         0.639]),\n",
       " array([  2.7,   4.2,  10.5,  14.1,  10.5,  13.2,  19.8,  28.2,  20.7,\n",
       "         29.4,  31.8,  44.4,  32.1,  37.2,  33. ,  34.5,  46.5]))"
      ]
     },
     "execution_count": 5,
     "metadata": {},
     "output_type": "execute_result"
    }
   ],
   "source": [
    "d,v"
   ]
  },
  {
   "cell_type": "markdown",
   "metadata": {},
   "source": [
    "Le tableau d contient alors les distances en megaparsec et le tableau v les vitesses d’éloignement en km/s. Tracons les vitesses d’éloignement en fonction des distances :"
   ]
  },
  {
   "cell_type": "code",
   "execution_count": 8,
   "metadata": {
    "collapsed": false
   },
   "outputs": [
    {
     "data": {
      "image/png": "[encoded data removed]",
      "text/plain": [
       "<matplotlib.figure.Figure at 0x111f25c50>"
      ]
     },
     "metadata": {},
     "output_type": "display_data"
    }
   ],
   "source": [
    "from pylab import *\n",
    "plot(d,v)\n",
    "show()"
   ]
  },
  {
   "cell_type": "markdown",
   "metadata": {},
   "source": [
    "On s'aperçoit que les vitesses d'éloignement croissent avec la distance. Hubble en 1929 a proposé que la vitesse d'éloignement d'une galaxie est proportionnelle à sa distance à la Terre:\n",
    "$$\n",
    "v=H_0d,\n",
    "$$"
   ]
  },
  {
   "cell_type": "markdown",
   "metadata": {},
   "source": [
    "où il a introduit la constante $H_0$ de proportionnalité, depuis appelée constante de Hubble. Cette loi décrit l'expansion de l'univers depuis le big-bang. Nous allons déterminer $H_0$ à partir de ces données, puis en déduire une estimation de l'âge de l'univers."
   ]
  },
  {
   "cell_type": "markdown",
   "metadata": {},
   "source": [
    "Nous allons tout d'abord tenter de déterminer $H_0$ \"à la main\" :"
   ]
  },
  {
   "cell_type": "markdown",
   "metadata": {},
   "source": [
    "Ecrire une fonction ```model(d,H0)``` :\n",
    "```python\n",
    "def model(d,H0):\n",
    "```\n",
    "qui prend en entrée le tableau d des distances et une valeur ```H0``` et renvoie un tableau des vitesses d'éloignement du modèle avec une valeur d'essai ```H0``` de la constante $H_0$.\n",
    "\n",
    "Tracer ensemble les données expérimentales et les données modèles pour quelques valeurs d'essai de $H_0$. Chercher la valeur qui vous semble le mieux reproduire les données expérimentales. Comparer votre estimation de $H_0$ avec celles de vos voisins.\n",
    "\n",
    "Pour déterminer $H_0$ de façon systématique nous allons maintenant utiliser la méthode des moindres carrés.\n"
   ]
  },
  {
   "cell_type": "markdown",
   "metadata": {},
   "source": [
    "## Méthode des moindres carrés ordinaire\n",
    "\n",
    "On suppose d'une manière générale que l'on a un jeu de données $(x_i,y_i)$, $i=1,\\ldots,N$, et un modèle $f(x,\\theta)$ de la valeur de $y$ à $x$ donné, paramétré par un jeu de paramètres $\\theta$. Pour déterminer les meilleurs paramètres $\\theta$ on se propose dans la méthode des moindres carrés de minimiser une distance entre les valeurs modèles et les valeurs observées. On définit cette distance par:\n",
    "$$\n",
    "\\chi^2(\\theta)=\\sum_{i=1}^N\\left(y_i-f(x_i,\\theta)\\right)^2=\\sum_{i=1}^N r_i(\\theta)^2,\n",
    "$$\n",
    "où dans la deuxième équation on a définit les résidus $r_i(\\theta)$ pour $i=1,\\ldots,N$ par\n",
    "$$\n",
    "r_i(\\theta)=y_i-f(x_i,\\theta).\n",
    "$$\n",
    "La méthode des moindres carrés consiste alors simplement à minimiser cette quantité en fonction de $\\theta$ pour un jeu de valeurs expérimentales $(x_i,y_i)$, $i=1,\\ldots,N$ données.\n",
    "\n"
   ]
  },
  {
   "cell_type": "markdown",
   "metadata": {},
   "source": [
    "Dans un premier temps, écrire une fonction ```residus(d,v,H0)```\n",
    "```python\n",
    "def residus(d,v,H0):\n",
    "```\n",
    "qui prend en entrée les tableaux de données ```d``` et ```v```, une valeur ```H0``` et renvoie un tableau des résidus, différences entre les valeurs de vitesses observées et les valeurs modèles.\n",
    "\n",
    "A partir de cette fonction, écrire une autre fonction ```chi2(d,v,H0)```\n",
    "```python\n",
    "def chi2(d,v,H0):\n",
    "```\n",
    "qui prend en entrée les tableaux de données ```d``` et ```v```, une valeur ```H0``` et renvoie la valeur de la distance $\\chi^2$ entre les valeurs observées et le modèle, définie ci-dessus.\n",
    "\n",
    "Tracer la valeur $\\chi^2(H_0)$ pour des valeurs de $H_0$ encadrant la valeur que vous aviez trouvée précédemment. Observer la présence d'un minimum. Estimer la valeur de $H_0$ au minimum.\n",
    "\n",
    "Ecrire une fonction ```minimise(d,v,intervalle,precision)```\n",
    "```python\n",
    "def minimise(d,v,intervalle,precision):\n",
    "```\n",
    "\n",
    "qui prend en entrée les tableaux de données ```d``` et ```v```, un tuple ```(min,max)=intervalle``` définissant un intervalle de recherche de $H_0$ et une précision ```precision``` et qui retourne la valeur de $H_0$, avec une précision donnée, qui minimise $\\chi^2(H_0)$.\n",
    "\n",
    "Utiliser cette fonction pour déterminer la valeur de la constante de Hubble à $0.01$ près selon la méthode des moindres carrés.\n",
    "\n",
    "### Evaluation de la qualité de l'ajustement\n",
    "La précision discutée ci-dessous est la précision sur l'étape de minimisation mais ne représente pas l'erreur potentiellement commise sur la valeur optimale de $H_0$ qui dépend, entre autre, du nombre de données et de l'erreur expérimentale entachant ces données. Il est aussi possible que le modèle que l'on teste ne soit pas correct. Nous allons donc maintenant nous intéresser à la qualité de l'ajustement de $H_0$.\n",
    "\n",
    "Tracer les résidus $r_i(H_{0,opt})$ en fonction des distances $d_i$ pour la valeur optimale de $H_0$.\n",
    "\n",
    "On peut remarquer que l'amplitude de variation des erreurs résiduelles, résidus, du modèle optimal est plus petite que l'amplitude de variation des données originales. Ces deux quantités sont caractérisées par\n",
    "\n",
    "$$\n",
    "S_{signal}=\\sum_{i=1}^N(y_i-\\bar{y})^2,\n",
    "$$\n",
    "\n",
    "où $\\bar{y}$ est la moyenne des observations, $\\bar{y}=\\dfrac{1}{N}\\sum_{i=1}^N y_i$, et \n",
    "\n",
    "$$\n",
    "S_{residus}=\\sum_{i=1}^N(y_i-f(x_i,H_{0,opt}))^2.\n",
    "$$\n",
    "\n",
    "Plus le rapport $\\dfrac{S_{residus}}{S_{signal}}$ est petit plus l'ajustement est bon. Il est conventionnel de définir le paramètre $R^2$ par\n",
    "\n",
    "$$\n",
    "R^2=1-\\dfrac{S_{residus}}{S_{signal}}.\n",
    "$$\n",
    "\n",
    "Plus $R^2$ est proche de 1, plus l'ajustement est bon. Conventionnellement, on considère qu'il faut $R^2>0.85$.\n",
    "\n",
    "Ecrire une fonction ```R2(d,v,H0)``` :\n",
    "```python\n",
    "def R2(d,v,H0):\n",
    "```\n",
    "qui prend en entrée les tableaux de données \\texttt{d} et \\texttt{v}, une valeur \\texttt{H0} et renvoie pour cette valeur de $H_0$ le paramètre $R^2$ défini ci-dessus.\n",
    "\n",
    "### Figures\n",
    "\n",
    "Illustrer ce que l'on vient de voir par trois figures :\n",
    "\n",
    "- Une figure montrant $\\chi^2(H_0)$ en fonction de $H_0$ sur une plage encadrant la valeur optimale de $H_0$. Indiquer sur cette figure la position de la valeur optimale et la valeur de $\\chi^2$ en ce point.\n",
    "- Une figure montrant les données expérimentales et le modèle optimal. Rappeler l'équation du modèle optimale et la valeur de $R^2$ sur la figure.\n",
    "- Une figure montrant les résidus du modèle optimal.\n",
    "\n",
    "## Méthodes des moindres carrés avec poids\n",
    "\n",
    "En observant la figure donnant les résidus en fonction de la distance on s'aperçoit que l'erreur augmente avec la distance, ce qui n'est pas surprenant. Cependant, on peut se demander si la distance du modèle à ces points doit être considérée comme la distance aux points où l'erreur est plus faible. On appelle $\\sigma_i$ l'erreur estimée pour le point $i$, dans la méthodes des moindres carrés avec poids, on définit alors la distance du modèle aux données expérimentales par\n",
    "\n",
    "$$\n",
    "\\chi_w^2(\\theta)=\\sum_{i=1}^N\\left(\\frac{y_i-f(x_i,\\theta)}{\\sigma_i}\\right)^2.\n",
    "$$\n",
    "\n",
    "On supposera ici que les erreurs $\\sigma_i$ sont proportionnelles à la distance $\\sigma_i\\propto d_i$ et on posera\n",
    "\n",
    "$$\n",
    "\\chi_w^2(H_0)=\\sum_{i=1}^N\\left(\\frac{v_i-H_0d_i}{d_i}\\right)^2=\\sum_{i=1}^N\\left(\\frac{v_i}{d_i}-H_0\\right)^2.\n",
    "$$\n",
    "\n",
    "Ecrire une fonction ```chi2weighted(d,v,H0)```\n",
    "```python\n",
    "def chi2weighted(d,v,H0):\n",
    "```\n",
    "\n",
    "qui prend en entrée les tableaux de données ```d``` et ```v```, une valeur ```H0``` et renvoie la valeur de la distance pondérée $\\chi_w^2$ entre les valeurs observées et le modèle, définie ci-dessus.\n",
    "\n",
    "Généraliser la fonction ```minimise``` définie précédemment pour passer en paramètre la fonction à minimiser.\n",
    "\n",
    "En déduire alors la nouvelle valeur optimale de la constante de Hubble par la méthode des moindres carrés avec poids. \n",
    "\n",
    "Ajouter ce modèle sur la figure montrant la comparaison entre les modèles et les données expérimentales.\n",
    "\n",
    "Le problème présenté ici est très simple, avec un seul paramètre ajustable dans le modèle. Dans le cas général, on a plusieurs paramètres ajustables $\\theta_1$, $\\theta_2$,\\ldots,$\\theta_M$. Il convient alors de minimiser la distance $\\chi^2$, ou $\\chi_w^2$ du modèle aux données expérimentales, par rapport aux $M$ paramètre du modèle. I faudra alors utiliser une routine de minisation pour un nombre quelconque de variables. Cependant, dans un certain nombre de cas, comme pour un modèle linéaire, la solution à ce problème de minimisation est analytique.\n",
    "\n",
    "## Estimation de l'âge de l'univers\n",
    "\n",
    "En supposant que la vitesse d'éloignement des galaxies est constante au cours du temps, on peut écrire\n",
    "$$\n",
    "d=vt\n",
    "$$\n",
    "où $t$ est le temps depuis le big-bang, correspondant à $d=0$, c'est à dire l'âge de l'univers. Si on injecte la loi d'expansion de Hubble dans cette formule, on obtient\n",
    "$$\n",
    "d=H_0 d t\n",
    "$$\n",
    "soit\n",
    "$$\n",
    "1=H_0  t\n",
    "$$\n",
    "et on a alors l'âge de l'univers qui dans cette hypothèse est donné par $t=\\dfrac{1}{H_0}$.\n",
    "\n",
    "Estimer en milliards d'années, l'âge de l'univers en utilisant les deux valeurs estimées de $H_0$ par la méthode des moindres carrés et la méthode des moindres carrés avec poids.\n",
    "\n",
    "En fait, dans le cadre des théories cosmologiques, cette hypothèse n'est pas en accord avec les données expérimentales et l'âge de l'univers doit alors être re-calculé. On peut écrire la correction à effectuer sous la forme\n",
    "$$\n",
    "t=\\frac{1}{H_0}F.\n",
    "$$\n",
    "La valeur du facteur de correction $F$ dérivant des observations du satellite Planck est $F=0.956$. Bien qu'il soit proche de $1$ ce facteur cache des périodes d'accélération (big-bang) et de décélération de l'expansion de l'univers.\n"
   ]
  },
  {
   "cell_type": "code",
   "execution_count": null,
   "metadata": {
    "collapsed": true
   },
   "outputs": [],
   "source": []
  }
 ],
 "metadata": {
  "kernelspec": {
   "display_name": "Python 3",
   "language": "python",
   "name": "python3"
  },
  "language_info": {
   "codemirror_mode": {
    "name": "ipython",
    "version": 3
   },
   "file_extension": ".py",
   "mimetype": "text/x-python",
   "name": "python",
   "nbconvert_exporter": "python",
   "pygments_lexer": "ipython3",
   "version": "3.6.0"
  }
 },
 "nbformat": 4,
 "nbformat_minor": 2
}
