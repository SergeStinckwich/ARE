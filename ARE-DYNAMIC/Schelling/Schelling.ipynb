{
 "cells": [
  {
   "cell_type": "markdown",
   "metadata": {},
   "source": [
    "# Le modèle de ségrégation de Schelling"
   ]
  },
  {
   "cell_type": "markdown",
   "metadata": {},
   "source": [
    "_ARE DYNAMIC - C. Cambier, P. Fournier, A. Guillon, J.-D. Kant, N. Maudet, S. Stinckwich_\n",
    "\n",
    "En Décembre 2016 disparaissait Thomas C. Schelling. Economiste, récipiendaire du Prix de la Banque de Suède en sciences économiques en mémoire d’Alfred Nobel (communément appelé et considéré comme le prix Nobel d’économie), il a travaillé sur de nombreux sujets, en particulier l’analyse des conflits.\n",
    "\n",
    "Une de ses contributions a permis de mieux comprendre les phénomènes de ségrégation. Plus précisément, le propos de Schelling fut d’étudier la dynamique par laquelle des phénomènes de ségrégation extrêmes peuvent survenir, en dépit de préférences qui peuvent sembler faiblement discriminantes individuellement. Ainsi, même si chaque individu se déclare prêt à accepter une certaine proportion d’invidus « différents » dans son voisinage, le résultat final peut être que la population se regroupe en régions très homogènes.\n",
    "\n",
    "![Thomas C. Schelling](http://www.nobelprize.org/nobel_prizes/economic-sciences/laureates/2005/schelling_postcard.jpg)\n",
    "\n",
    "Cette étude peut être menée à l’aide de modèles connus sous le nom d’automates cellulaires. Un des automates les plus célèbres est le [jeu de la vie](https://fr.wikipedia.org/wiki/Jeu_de_la_vie), proposé par John Conway en 1970. Il existe de nombreux autres automates cellulaires dont le comportement est relativement bien étudié, et la littérature est riche à ce sujet. Nous recommandons la lecture de l’article [2] de Jean-Paul Delahaye.\n",
    "\n",
    "## Modèle linéaire\n",
    "\n",
    "Pour illustrer le modèle, prenons un monde _linéaire_ (c’est en fait le premier modèle étudié par Schelling dans son article, à quelques détails près). Le modèle se compose des éléments suivants :\n",
    "\n",
    "- les individus sont de deux _types_ (« 0 » et « 1 »), disposés spatialement sur une ligne.\n",
    "- le _voisinage_ sont les quatre voisins d’une cellule, de chaque côté. Il faut noter que le nombre de voisins peut varier selon la localisation (pour les individus en bout de ligne).\n",
    "- le _seuil de satisfaction_ : un individu est satisfait si une majorité (faible) de ses voisins est de la même couleur que lui (i.e. il veut au moins autant de voisins de même type que lui que de voisins différents)\n",
    "- le mode de déplacement : un individu non satisfait va chercher à se déplacer pour trouver un emplacement qui le satisfasse. La règle dans ce cas là est qu’un individu se déplace vers l’emplacement le plus proche qui le satisfait.\n",
    "- la dynamique des déplacements est simplement de considérer les individus, de gauche à droite. Chaque individu non satisfait se déplace (vers la gauche ou vers la droite) vers la l’emplacement le plus proche qui le satisfait. Il s’insère alors à la localisation visée. Un tour est terminé lorsque tous les agents ont été considérés.\n",
    "\n",
    "Partant d’un état initial, le processus est répété jusqu’à équilibre, c’est-à-dire jusqu’à ce que plus aucun individu insatisfait ne puisse se déplacer, ou qu’une situation de blocage soit détectée. Cela peut nécessiter plusieurs tours.\n",
    "\n",
    "Pour illustrer le propos, considérons la situation initiale suivante :\n",
    "\n",
    "![Linear Model 1](linearmodel1.png)\n",
    "Les individus non satisfaits sont indiqués en gris dans la table. Le premier individu à se déplacer sera donc le deuxième en partant de la gauche. En effet, son voisinage ne comprend qu’un autre individu 1 (sur 5). Pour trouver une place satisfaisante, il va devoir se déplacer de 6 cases vers la droite. Le nouvel état sera alors (l’individu s’étant déplacé est en gras) :\n",
    "\n",
    "![Linear Model 2](linearmodel2.png)\n",
    "\n",
    "L’impact de plusieurs paramètres du modèle peut être étudié : (i) le voisinage, (ii) les préférences des individus (le seuil de voisins de leur couleur qui les satisfait), (iii) le ratio entre les deux types d’individus, (iv) la configuration initiale, et (v) les règles de mouvement.\n",
    "\n",
    "Les métriques qu’il peut être intéressant d’étudier sont, par exemple, (i) le nombre d’individus satisfaits à l’équilibre, (ii) la taille (moyenne) des regroupements homogènes observés et leur nombre, (iii) la moyenne sur tous les individus de voisins du même type qu’eux, ou encore (iv) le nombre de tours nc ́essaires pour arriver à un état stable.\n",
    "\n",
    "## Modèle spatial\n",
    "\n",
    "L’extension à un modèle spatial n’est pas complètement triviale. En effet, si toutes les localisations sont occupées, il n’est pas si évident de définir les règles de déplacements (où se déplacent les individus « chassés » de leur localisation ?). Il est alors plus aisé d’introduire alors des localisations non occupées. Dans ce cas, les individus se déplacent vers la localisation inoccupée la plus proche (selon la [distance de Manhattan](https://fr.wikipedia.org/wiki/Distance_de_Manhattan), par exemple), qui satisfait leur seuil de préférence. Une autre solution serait de les faire se déplacer simplement au hasard vers une localisation inoccupée qui les satisfait.\n",
    "\n",
    "## Travail demandé\n",
    "\n",
    "Dans le cadre de cet ARE, il vous est demandé :\n",
    "\n",
    "1. en vous appuyant sur le code qui vous est fourni, de comprendre et d’étudier le modèle linéaire Schelling, et d’essayer de reproduire le plus fidèlement possible les résultats originaux [1];\n",
    "2. d’analyser le comportement de ce modèle en faisant varier certains paramètres. Pour cela, vous devrez compléter le code afin de pouvoir lancer des simulations (permettant de faire varier automatiquement certaines valeurs de paramètres), et d’afficher des courbes pour visualiser les résultats moyennés sur un nombre suffisant de simulations;\n",
    "Vous pouvez également essayer de reproduire les résultats de l'ar\n",
    "3. de proposer une version _animée_ du modèle spatial. Vous pourrez vous contenter d’un modèle simple de déplacement aléatoire.\n",
    "\n",
    "## Références\n",
    "- [1] Thomas C. Schelling, [Dynamic Models of Segregation](http://www.stat.berkeley.edu/~aldous/157/Papers/Schelling_Seg_Models.pdf), Journal of Mathematical Sociology (1971) 143-186\n",
    "- [2] J.-P. Delahaye, [Le royaume du jeu de la vie](http://www.lifl.fr/~jdelahay/dnalor/Jeudelavie.pdf), Pour la Science (2009) 378"
   ]
  },
  {
   "cell_type": "markdown",
   "metadata": {},
   "source": [
    "## Solution pour modèle linéaire"
   ]
  },
  {
   "cell_type": "code",
   "execution_count": 96,
   "metadata": {
    "collapsed": true
   },
   "outputs": [],
   "source": [
    "import numpy as np\n",
    "import random\n",
    "import copy\n",
    "\n",
    "from matplotlib import pyplot as plt\n",
    "\n",
    "# GLOBAL PARAMETERS FOR EXPERIMENTS\n",
    "neighb = 4          # size of neighbourhood\n",
    "threshold = 0.5     # threshold of satisfaction\n",
    "maxIterations = 5   # max number of iteration for convergence\n",
    "size = 22           # size of the line"
   ]
  },
  {
   "cell_type": "markdown",
   "metadata": {},
   "source": [
    "Un état de l'automate cellulaire est représenté sous la forme d'une liste de 0 et de 1. Par exemple:"
   ]
  },
  {
   "cell_type": "code",
   "execution_count": 97,
   "metadata": {
    "collapsed": false
   },
   "outputs": [],
   "source": [
    "cells = [0, 1, 0, 0, 0, 1, 1, 0, 1, 0, 0, 1, 1, 1, 0, 0, 1, 1, 1, 1, 0, 1]"
   ]
  },
  {
   "cell_type": "markdown",
   "metadata": {},
   "source": [
    "La fonction ```str_state``` convertit un automate cellulaire en une chaîne de caractères pour l'afficher à l'écran."
   ]
  },
  {
   "cell_type": "code",
   "execution_count": 98,
   "metadata": {
    "collapsed": true
   },
   "outputs": [],
   "source": [
    "def str_state(state):\n",
    "    '''\n",
    "    return the state as a string\n",
    "    '''\n",
    "    result = \"\"\n",
    "    for i in state:\n",
    "        result += str(i)\n",
    "    return result"
   ]
  },
  {
   "cell_type": "code",
   "execution_count": 99,
   "metadata": {
    "collapsed": false
   },
   "outputs": [
    {
     "data": {
      "text/plain": [
       "'0100011010011100111101'"
      ]
     },
     "execution_count": 99,
     "metadata": {},
     "output_type": "execute_result"
    }
   ],
   "source": [
    "str_state(cells)"
   ]
  },
  {
   "cell_type": "markdown",
   "metadata": {},
   "source": [
    "La fonction ```hogeneinity_level``` calcule pour l'individu à la position c, le ratio d'individus du même type."
   ]
  },
  {
   "cell_type": "code",
   "execution_count": 100,
   "metadata": {
    "collapsed": true
   },
   "outputs": [],
   "source": [
    "def homogeneinity_level(position, state):\n",
    "    '''\n",
    "    for a given individual at position and state\n",
    "    returns the ratio of individuals of same type in neighbourhood\n",
    "    '''\n",
    "    my_color = state[position]\n",
    "    count = 0\n",
    "    nb_neighb = 0\n",
    "    for i in range(1, neighb+1):\n",
    "        if position+i < len(state):\n",
    "            nb_neighb += 1\n",
    "            if state[position+i] == my_color:\n",
    "                count += 1\n",
    "        if position-i >= 0:\n",
    "            nb_neighb += 1\n",
    "            if state[position-i] == my_color:\n",
    "                count += 1\n",
    "    return float(count / nb_neighb)"
   ]
  },
  {
   "cell_type": "code",
   "execution_count": 101,
   "metadata": {
    "collapsed": false
   },
   "outputs": [
    {
     "data": {
      "text/plain": [
       "0.2"
      ]
     },
     "execution_count": 101,
     "metadata": {},
     "output_type": "execute_result"
    }
   ],
   "source": [
    "homogeneinity_level(1,cells)"
   ]
  },
  {
   "cell_type": "code",
   "execution_count": 102,
   "metadata": {
    "collapsed": true
   },
   "outputs": [],
   "source": [
    "def is_happy(position, state, verbose = False):\n",
    "    '''\n",
    "    returns whether individual at position is satisfied in a given state\n",
    "    '''\n",
    "    h = homogeneinity_level(position, state)\n",
    "    if verbose:\n",
    "        print(h)\n",
    "    return h >= threshold"
   ]
  },
  {
   "cell_type": "code",
   "execution_count": 103,
   "metadata": {
    "collapsed": false
   },
   "outputs": [
    {
     "data": {
      "text/plain": [
       "False"
      ]
     },
     "execution_count": 103,
     "metadata": {},
     "output_type": "execute_result"
    }
   ],
   "source": [
    "is_happy(1, cells)"
   ]
  },
  {
   "cell_type": "markdown",
   "metadata": {},
   "source": [
    "Il est également possible d'afficher sous forme de chaine de caractère quels individus sont insatisfaits (notés 'X'). "
   ]
  },
  {
   "cell_type": "code",
   "execution_count": 104,
   "metadata": {
    "collapsed": true
   },
   "outputs": [],
   "source": [
    "def str_unhappy(string):\n",
    "    '''\n",
    "    returns the string marking unhappy individuals with a 'X'\n",
    "    '''\n",
    "    result = \"\"\n",
    "    for i in range(len(string)):\n",
    "        if is_happy(i, string):\n",
    "            result += \" \"\n",
    "        else:\n",
    "            result += \"X\"\n",
    "    return result"
   ]
  },
  {
   "cell_type": "code",
   "execution_count": 105,
   "metadata": {
    "collapsed": false
   },
   "outputs": [
    {
     "name": "stdout",
     "output_type": "stream",
     "text": [
      "0100011010011100111101\n",
      " X   XX  XXX  XX    X \n"
     ]
    }
   ],
   "source": [
    "print(str_state(cells))\n",
    "print(str_unhappy(str_state(cells)))"
   ]
  },
  {
   "cell_type": "markdown",
   "metadata": {},
   "source": [
    "La fonction ```move_to``` déplace un individu vers une nouvelle position à droite ou à gauche. La priorité est donnée au déplacement à droite."
   ]
  },
  {
   "cell_type": "code",
   "execution_count": 106,
   "metadata": {
    "collapsed": true
   },
   "outputs": [],
   "source": [
    "def move_to(c, p, s):\n",
    "    '''\n",
    "    c position initiale\n",
    "    p position où l'on déplace l'agent\n",
    "    moves individual c to position p, shifting other individuals\n",
    "    s state\n",
    "    and returns the resulting list\n",
    "    '''\n",
    "    new_s = copy.copy(s) # new list for result\n",
    "    my_color = new_s[c]\n",
    "    # gives priority to the right move in case of ties\n",
    "    # I didn't find this specification in Schelling's paper\n",
    "    if p > c: # moving to the right\n",
    "        for i in range(c, p):\n",
    "            new_s[i] = s[i+1]\n",
    "    else:   # moving to the left\n",
    "\n",
    "        for i in range(p, c):\n",
    "            new_s[i+1] = s[i]\n",
    "    new_s[p] = my_color\n",
    "    return new_s"
   ]
  },
  {
   "cell_type": "code",
   "execution_count": 107,
   "metadata": {
    "collapsed": false
   },
   "outputs": [
    {
     "name": "stdout",
     "output_type": "stream",
     "text": [
      "Avant le déplacement: 0100011010011100111101\n",
      "Après le déplacement: 0000110110011100111101\n"
     ]
    }
   ],
   "source": [
    "new_cells = move_to(1, 7, cells)\n",
    "print(\"Avant le déplacement:\", str_state(cells))\n",
    "print(\"Après le déplacement:\", str_state(new_cells))"
   ]
  },
  {
   "cell_type": "code",
   "execution_count": 108,
   "metadata": {
    "collapsed": true
   },
   "outputs": [],
   "source": [
    "def move_to_nearest_satisfying(c,s,verbose=False):\n",
    "    '''\n",
    "    will move individual c to nearest satisfying location\n",
    "    simulate the move and check whether satisfying\n",
    "    returns a tuple new state, and boolean satisfied\n",
    "    note: very inefficient but simple solution\n",
    "    '''\n",
    "\n",
    "    move_limit = max(size-c, c)\n",
    "    move_distance = 0\n",
    "    new_s = []\n",
    "    satisfied = False\n",
    "    while move_distance < move_limit and not(satisfied):\n",
    "        move_distance += 1\n",
    "        new_s = copy.copy(s) # used to simulate the move\n",
    "        if c+move_distance < size:\n",
    "            new_s = move_to(c, c+move_distance, new_s)\n",
    "            satisfied = is_happy(c+move_distance, new_s)\n",
    "        if c-move_distance >= 0 and not satisfied: # trying to move left\n",
    "            new_s = copy.copy(s)\n",
    "            new_s = move_to(c, c-move_distance, new_s)\n",
    "            satisfied = is_happy(c-move_distance, new_s)\n",
    "        if verbose and satisfied:\n",
    "            print (c, \" moved to:\", c-move_distance)\n",
    "    return new_s, satisfied"
   ]
  },
  {
   "cell_type": "code",
   "execution_count": 109,
   "metadata": {
    "collapsed": false
   },
   "outputs": [
    {
     "name": "stdout",
     "output_type": "stream",
     "text": [
      "Avant le déplacement: 0100011010011100111101\n",
      "1  moved to: -5\n",
      "Après le déplacement: 0000110110011100111101\n"
     ]
    }
   ],
   "source": [
    "print (\"Avant le déplacement:\", str_state(cells))\n",
    "new_cells, sat = move_to_nearest_satisfying(1, cells,True)\n",
    "print (\"Après le déplacement:\", str_state(new_cells))"
   ]
  },
  {
   "cell_type": "markdown",
   "metadata": {},
   "source": [
    "### Dynamique\n",
    "\n",
    "La dynamique consiste ensuite à répéter les déplacements. Schelling suggère de considérer les individus un par un, en partant de la gauche, et de les faire se déplacer s'ils le peuvent. Un *tour* est terminé lorsque tous les individus ont été considérés, et on peut répéter ainsi les tours. Mais quand s'arrêter avec cette dynamique? \n",
    "\n",
    "On pourrait penser différents critères de convergence dans notre cas:\n",
    "* lorsque tous les individus sont satisfaits. Malheureusement, rien ne garantit que le système puisse parvenir à un état où tous les individus sont satisfaits (cela peut arriver mais c'est plutôt exceptionnel). \n",
    "* lorsque plus aucun individu ne peut se déplacer. Ce critère est plus pertinent, mais il cache une difficulté: le système ne parvient pas non plus nécessairement dans un état où plus aucun individus ne peut se déplacer. Ce critère seul peut donc mener à des boucles infinies. \n",
    "* nous emploierons donc un garde-fou, qui consistera à poser un nombre maximal d'itérations. Si le système n'est pas stabilisé selon le critère précédent après ce nombre d'itérations, la dynamique s'arrête. "
   ]
  },
  {
   "cell_type": "code",
   "execution_count": 110,
   "metadata": {
    "collapsed": true
   },
   "outputs": [],
   "source": [
    "###############################################################################\n",
    "# GLOBAL DYNAMICS\n",
    "###############################################################################\n",
    "# Note: departs a little bit from Schelling's specification here\n",
    "# Interesting problem of non convergence here when no maxIterations condition\n",
    "# the penultimate individual moves to the last position, and so on\n",
    "\n",
    "\n",
    "def dynamics(state, verbose = False, stepwise = False):\n",
    "    '''\n",
    "    departs a little bit from Schelling's specification here\n",
    "    '''\n",
    "    one_has_moved = True\n",
    "    iterations = 0\n",
    "    while one_has_moved and iterations < maxIterations:\n",
    "        one_has_moved = False\n",
    "        for i in range(len(state)):\n",
    "            if not (is_happy(i, state)): # i wants to move\n",
    "                state, moved = move_to_nearest_satisfying(i, state, False)\n",
    "                one_has_moved = moved or one_has_moved\n",
    "        if verbose:\n",
    "            print (\"Tour :\", iterations)\n",
    "            print(str_state(state))\n",
    "            print(str_unhappy(state))\n",
    "            #print(count_unhappy(state))\n",
    "        if stepwise:\n",
    "            input(\"Press Enter to continue...\")\n",
    "        iterations += 1\n",
    "    return state"
   ]
  },
  {
   "cell_type": "code",
   "execution_count": 111,
   "metadata": {
    "collapsed": false
   },
   "outputs": [
    {
     "name": "stdout",
     "output_type": "stream",
     "text": [
      "Tour : 0\n",
      "0000100000011111111111\n",
      "    X                 \n",
      "Tour : 1\n",
      "0000000000111111111111\n",
      "                      \n",
      "Tour : 2\n",
      "0000000000111111111111\n",
      "                      \n"
     ]
    }
   ],
   "source": [
    "new_cells = dynamics(cells,True)"
   ]
  },
  {
   "cell_type": "markdown",
   "metadata": {},
   "source": [
    "Pour cet état initial on a donc une convergence directe. La dynamique s'arrête au tour 2 car plus aucun individu ne souhaite se déplacer. Mais considérons un autre état initial:"
   ]
  },
  {
   "cell_type": "code",
   "execution_count": 112,
   "metadata": {
    "collapsed": false
   },
   "outputs": [
    {
     "name": "stdout",
     "output_type": "stream",
     "text": [
      "Tour : 0\n",
      "1111000\n",
      "    XX \n",
      "Tour : 1\n",
      "1111000\n",
      "    XX \n",
      "Tour : 2\n",
      "1111000\n",
      "    XX \n",
      "Tour : 3\n",
      "1111000\n",
      "    XX \n",
      "Tour : 4\n",
      "1111000\n",
      "    XX \n",
      "Tour : 5\n",
      "1111000\n",
      "    XX \n",
      "Tour : 6\n",
      "1111000\n",
      "    XX \n",
      "Tour : 7\n",
      "1111000\n",
      "    XX \n",
      "Tour : 8\n",
      "1111000\n",
      "    XX \n",
      "Tour : 9\n",
      "1111000\n",
      "    XX \n",
      "Tour : 10\n",
      "1111000\n",
      "    XX \n",
      "Tour : 11\n",
      "1111000\n",
      "    XX \n",
      "Tour : 12\n",
      "1111000\n",
      "    XX \n",
      "Tour : 13\n",
      "1111000\n",
      "    XX \n",
      "Tour : 14\n",
      "1111000\n",
      "    XX \n",
      "Tour : 15\n",
      "1111000\n",
      "    XX \n",
      "Tour : 16\n",
      "1111000\n",
      "    XX \n",
      "Tour : 17\n",
      "1111000\n",
      "    XX \n",
      "Tour : 18\n",
      "1111000\n",
      "    XX \n",
      "Tour : 19\n",
      "1111000\n",
      "    XX \n"
     ]
    }
   ],
   "source": [
    "cells2 = [1,1,1,1,0,0,0]\n",
    "new_cells2 = dynamics (cells2,True)"
   ]
  },
  {
   "cell_type": "markdown",
   "metadata": {},
   "source": [
    "Cette fois la dynamique s'arrête grâce à la limite sur le nombre d'itérations. Comprenez-vous pourquoi? "
   ]
  },
  {
   "cell_type": "markdown",
   "metadata": {},
   "source": [
    "Calculons le nombre moyen de satisfaction pour un automate cellulaire :"
   ]
  },
  {
   "cell_type": "code",
   "execution_count": 113,
   "metadata": {
    "collapsed": true
   },
   "outputs": [],
   "source": [
    "# Average level of satisfaction\n",
    "cells = np.random.randint(0, 2, (10))\n",
    "def average_homogeneity(cells):\n",
    "    avr = 0\n",
    "    for i in range(len(cells)):\n",
    "        avr = avr + homogeneinity_level(i, cells)\n",
    "    return avr/len(cells)"
   ]
  },
  {
   "cell_type": "code",
   "execution_count": 114,
   "metadata": {
    "collapsed": false
   },
   "outputs": [
    {
     "data": {
      "text/plain": [
       "0.48059523809523813"
      ]
     },
     "execution_count": 114,
     "metadata": {},
     "output_type": "execute_result"
    }
   ],
   "source": [
    "average_homogeneity(cells)"
   ]
  },
  {
   "cell_type": "code",
   "execution_count": 115,
   "metadata": {
    "collapsed": true
   },
   "outputs": [],
   "source": [
    "def average_cluster_size(cells):\n",
    "    result = []\n",
    "    color = cells[0]\n",
    "    s = 0\n",
    "    for i in range(len(cells)):\n",
    "        if color == cells[i]:\n",
    "            s = s + 1\n",
    "        else:\n",
    "            result.append(s)\n",
    "            color = cells[i]\n",
    "            s = 1\n",
    "    result.append(s)\n",
    "    avr = 0.0\n",
    "    for j in result:\n",
    "        avr = avr + j\n",
    "    return avr/len(result)"
   ]
  },
  {
   "cell_type": "code",
   "execution_count": 116,
   "metadata": {
    "collapsed": false,
    "scrolled": true
   },
   "outputs": [
    {
     "data": {
      "text/plain": [
       "3.5"
      ]
     },
     "execution_count": 116,
     "metadata": {},
     "output_type": "execute_result"
    }
   ],
   "source": [
    "average_cluster_size(cells2)"
   ]
  },
  {
   "cell_type": "markdown",
   "metadata": {},
   "source": [
    "Faisons varier le taux (threshold) de 0 à 1.0 par pas de 0.1 pour étudier la variation de ce paramètre par rapport aux taux global de satisfaction (average_homogeneity). Pour chaque pas, on fait plusieurs simulations (nb_simulations) afin d'avoir des résultats en moyenne. Enfin, on effectue un graphe montrant l'évolution du taux global de satisfaction."
   ]
  },
  {
   "cell_type": "code",
   "execution_count": 121,
   "metadata": {
    "collapsed": false
   },
   "outputs": [
    {
     "data": {
      "image/png": "[encoded data removed]",
      "text/plain": [
       "<matplotlib.figure.Figure at 0x10b5c2438>"
      ]
     },
     "metadata": {},
     "output_type": "display_data"
    }
   ],
   "source": [
    "jump = 0.1\n",
    "t = 0.0\n",
    "tend = 1.0\n",
    "result = []\n",
    "nb_simulations = 20\n",
    "maxIterations = 20\n",
    "size = 100\n",
    "while t < tend:\n",
    "    avr = 0.0\n",
    "    threshold = t\n",
    "    for i in range(nb_simulations):\n",
    "        state = np.random.randint(0, 2, (size))\n",
    "        avr = avr + average_cluster_size(dynamics(state))\n",
    "    result.append(avr/nb_simulations)\n",
    "    t += jump\n",
    "x = np.linspace(0.0, 1.0, (1.0/jump)+1)\n",
    "\n",
    "plt.plot(x, result)\n",
    "plt.show()"
   ]
  },
  {
   "cell_type": "code",
   "execution_count": null,
   "metadata": {
    "collapsed": true
   },
   "outputs": [],
   "source": []
  }
 ],
 "metadata": {
  "anaconda-cloud": {},
  "kernelspec": {
   "display_name": "Python 3",
   "language": "python",
   "name": "python3"
  },
  "language_info": {
   "codemirror_mode": {
    "name": "ipython",
    "version": 3
   },
   "file_extension": ".py",
   "mimetype": "text/x-python",
   "name": "python",
   "nbconvert_exporter": "python",
   "pygments_lexer": "ipython3",
   "version": "3.6.0"
  }
 },
 "nbformat": 4,
 "nbformat_minor": 0
}
