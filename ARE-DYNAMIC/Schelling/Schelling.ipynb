{
 "cells": [
  {
   "cell_type": "markdown",
   "metadata": {},
   "source": [
    "# Le modèle de ségrégation de Schelling"
   ]
  },
  {
   "cell_type": "markdown",
   "metadata": {},
   "source": [
    "En Décembre 2016 disparaissait Thomas C. Schelling. Economiste, récipiendaire du Prix de la Banque de Suède en sciences économiques en mémoire d’Alfred Nobel (communément appelé –et considéré– comme le prix Nobel d’Economie), il a travaillé sur de nombreux sujets, en particulier l’analyse des conflits.\n",
    "\n",
    "Une de ses contributions a permis de mieux comprendre les phénomènes de ségrégation. Plus précisément, le propos de Schelling fut d’étu- dier la dynamique par laquelle des phénomènes de ségrégation extrêmes peuvent survenir, en dépit de préférences qui peuvent sembler faiblement discriminantes individuellement. Ainsi, même si chaque individu se dé- clare prêt à accepter une certaine proportion d’invidus « différents » dans son voisinage, le résultat final peut être que la population se regroupe en régions très homogènes.\n",
    "Cette étude peut être menée à l’aide de modèles connus sous le nom d’automates cellulaires. Un des automates les plus célèbres est le jeu de la vie, proposé par John Conway en 1970. Il existe de nombreux autres automates cellulaires dont le comportement est relativement bien étudié, et la littérature est riche à ce sujet. Nous recommandons la lecture de l’article [2] de Jean-Paul Delahaye."
   ]
  },
  {
   "cell_type": "code",
   "execution_count": 84,
   "metadata": {
    "collapsed": true
   },
   "outputs": [],
   "source": [
    "import numpy as np\n",
    "import random\n",
    "import copy\n",
    "\n",
    "from matplotlib import pyplot as plt\n",
    "\n",
    "# GLOBAL PARAMETERS FOR EXPERIMENTS\n",
    "neighb = 4          # size of neighbourhood\n",
    "threshold = 0.5     # threshold of satisfaction\n",
    "maxIterations = 5   # max number of iteration for convergence"
   ]
  },
  {
   "cell_type": "markdown",
   "metadata": {},
   "source": [
    "Un état de l'automate cellulaire est représenté sous la forme d'une liste de 0 et de 1. Par exemple:"
   ]
  },
  {
   "cell_type": "code",
   "execution_count": 96,
   "metadata": {
    "collapsed": false
   },
   "outputs": [
    {
     "data": {
      "text/plain": [
       "[0, 1, 0, 0, 0, 1, 1, 0, 1, 0, 0, 1, 1, 1, 0, 0, 1, 1, 1, 1, 0, 1]"
      ]
     },
     "execution_count": 96,
     "metadata": {},
     "output_type": "execute_result"
    }
   ],
   "source": [
    "[0, 1, 0, 0, 0, 1, 1, 0, 1, 0, 0, 1, 1, 1, 0, 0, 1, 1, 1, 1, 0, 1]"
   ]
  },
  {
   "cell_type": "markdown",
   "metadata": {},
   "source": [
    "La fonction ```str_state``` convertit un automate cellulaire en une chaîne de caractères pour l'afficher à l'écran."
   ]
  },
  {
   "cell_type": "code",
   "execution_count": 66,
   "metadata": {
    "collapsed": true
   },
   "outputs": [],
   "source": [
    "def str_state(state):\n",
    "    '''\n",
    "    return the state as a string\n",
    "    '''\n",
    "    result = \"\"\n",
    "    for i in state:\n",
    "        result += str(i)\n",
    "    return result"
   ]
  },
  {
   "cell_type": "code",
   "execution_count": 67,
   "metadata": {
    "collapsed": false
   },
   "outputs": [
    {
     "data": {
      "text/plain": [
       "'0100011010011100111101'"
      ]
     },
     "execution_count": 67,
     "metadata": {},
     "output_type": "execute_result"
    }
   ],
   "source": [
    "str_state([0,1,0,0,0,1,1,0,1,0,0,1,1,1,0,0,1,1,1,1,0,1])"
   ]
  },
  {
   "cell_type": "markdown",
   "metadata": {},
   "source": [
    "La fonction ```hogeneinity_level``` calcule pour l'individu à la position c, le ratio d'individus du même type."
   ]
  },
  {
   "cell_type": "code",
   "execution_count": 82,
   "metadata": {
    "collapsed": true
   },
   "outputs": [],
   "source": [
    "def homogeneinity_level(position, state):\n",
    "    '''\n",
    "    for a given individual at position and state\n",
    "    returns the ratio of individuals of same type in neighbourhood\n",
    "    '''\n",
    "    my_color = state[position]\n",
    "    count = 0\n",
    "    nb_neighb = 0\n",
    "    for i in range(1, neighb+1):\n",
    "        if position+i < len(state):\n",
    "            nb_neighb += 1\n",
    "            if state[position+i] == my_color:\n",
    "                count += 1\n",
    "        if position-i >= 0:\n",
    "            nb_neighb += 1\n",
    "            if state[position-i] == my_color:\n",
    "                count += 1\n",
    "    return float(count / nb_neighb)"
   ]
  },
  {
   "cell_type": "code",
   "execution_count": 83,
   "metadata": {
    "collapsed": false
   },
   "outputs": [
    {
     "data": {
      "text/plain": [
       "0.2"
      ]
     },
     "execution_count": 83,
     "metadata": {},
     "output_type": "execute_result"
    }
   ],
   "source": [
    "homogeneinity_level(1,[0,1,0,0,0,1,1,0,1,0,0,1,1,0,0,1,1,1,1,0,1])"
   ]
  },
  {
   "cell_type": "code",
   "execution_count": null,
   "metadata": {
    "collapsed": true
   },
   "outputs": [],
   "source": [
    "def is_happy(position, state, verbose = False):\n",
    "    '''\n",
    "    returns whether individual at position is satisfied in a given state\n",
    "    '''\n",
    "    h = homogeneinity_level(position, state)\n",
    "    if verbose:\n",
    "        print(h)\n",
    "    return h >= threshold"
   ]
  },
  {
   "cell_type": "code",
   "execution_count": 94,
   "metadata": {
    "collapsed": false
   },
   "outputs": [
    {
     "data": {
      "text/plain": [
       "False"
      ]
     },
     "execution_count": 94,
     "metadata": {},
     "output_type": "execute_result"
    }
   ],
   "source": [
    "is_happy(1, [0, 1, 0, 0, 0, 1, 1, 0, 1, 0, 0, 1, 1, 0, 0, 1, 1, 1, 1, 0, 1])"
   ]
  },
  {
   "cell_type": "code",
   "execution_count": null,
   "metadata": {
    "collapsed": true
   },
   "outputs": [],
   "source": [
    "def str_unhappy(string):\n",
    "    '''\n",
    "    returns the string marking unhappy individuals with a 'X'\n",
    "    '''\n",
    "    result = \"\"\n",
    "    for i in range(len(string)):\n",
    "        if is_happy(i, string):\n",
    "            result += \" \"\n",
    "        else:\n",
    "            result += \"X\"\n",
    "    return result"
   ]
  },
  {
   "cell_type": "code",
   "execution_count": 89,
   "metadata": {
    "collapsed": false
   },
   "outputs": [
    {
     "data": {
      "text/plain": [
       "' X   XX  X X XX    X '"
      ]
     },
     "execution_count": 89,
     "metadata": {},
     "output_type": "execute_result"
    }
   ],
   "source": [
    "str_unhappy(str_state([0,1,0,0,0,1,1,0,1,0,0,1,1,0,0,1,1,1,1,0,1]))"
   ]
  },
  {
   "cell_type": "markdown",
   "metadata": {},
   "source": [
    "La fonction ```move_to``` déplace un individu vers une nouvelle position à droite ou à gauche. La priorité est donnè au déplacement à droite."
   ]
  },
  {
   "cell_type": "code",
   "execution_count": 106,
   "metadata": {
    "collapsed": true
   },
   "outputs": [],
   "source": [
    "def move_to(c, p, s):\n",
    "    '''\n",
    "    c position initiale\n",
    "    p position où l'on déplace l'agent\n",
    "    moves individual c to position p, shifting other individuals\n",
    "    s state\n",
    "    and returns the resulting list\n",
    "    '''\n",
    "    new_s = copy.copy(s) # new list for result\n",
    "    my_color = new_s[c]\n",
    "    # gives priority to the right move in case of ties\n",
    "    # I didn't find this specification in Schelling's paper\n",
    "    if p > c: # moving to the right\n",
    "        print(p)\n",
    "        print(c)\n",
    "        for i in range(c, p):\n",
    "            new_s[i] = new_s[i+1]\n",
    "            new_s[i+1] = my_color\n",
    "    else:   # moving to the left\n",
    "\n",
    "        for i in range(p, c):\n",
    "            new_s[i+1] = new_s[i]\n",
    "            new_s[p] = my_color\n",
    "    return new_s"
   ]
  },
  {
   "cell_type": "code",
   "execution_count": 107,
   "metadata": {
    "collapsed": false
   },
   "outputs": [
    {
     "name": "stdout",
     "output_type": "stream",
     "text": [
      "7\n",
      "1\n"
     ]
    },
    {
     "data": {
      "text/plain": [
       "[0, 0, 0, 0, 1, 1, 0, 1, 1, 0, 0, 1, 1, 0, 0, 1, 1, 1, 1, 0, 1]"
      ]
     },
     "execution_count": 107,
     "metadata": {},
     "output_type": "execute_result"
    }
   ],
   "source": [
    "move_to(1, 7, [0, 1, 0, 0, 0, 1, 1, 0, 1, 0, 0, 1, 1, 0, 0, 1, 1, 1, 1, 0, 1])"
   ]
  },
  {
   "cell_type": "code",
   "execution_count": 108,
   "metadata": {
    "collapsed": true
   },
   "outputs": [],
   "source": [
    "def move_to_nearest_satisfying(c, s, verbose=False):\n",
    "    '''\n",
    "    will move individual c to nearest satisfying location\n",
    "    simulate the move and check whether satisfying\n",
    "    note: very inefficient but simple solution\n",
    "    '''\n",
    "\n",
    "    move_limit = max(size-c, c)\n",
    "    move_distance = 0\n",
    "    new_s = []\n",
    "    satisfied = False\n",
    "    while move_distance < move_limit and not(satisfied):\n",
    "        move_distance += 1\n",
    "        new_s = copy.copy(s) # used to simulate the move\n",
    "        if c+move_distance < size:\n",
    "            new_s = move_to(c, c+move_distance, new_s)\n",
    "            if is_happy(c+move_distance, new_s):\n",
    "                satisfied = True\n",
    "                if verbose:\n",
    "                    print (c, \"moved to:\", c+move_distance)\n",
    "        else: # trying to move left\n",
    "            if c-move_distance >= 0:\n",
    "                new_s = copy.copy(s)\n",
    "                new_s = move_to(c, c-move_distance, new_s)\n",
    "                satisfied = is_happy(c-move_distance, new_s)\n",
    "                if verbose and satisfied:\n",
    "                    print (c, \" moved to:\", c-move_distance)\n",
    "    return new_s, satisfied"
   ]
  },
  {
   "cell_type": "code",
   "execution_count": 109,
   "metadata": {
    "collapsed": false
   },
   "outputs": [
    {
     "name": "stdout",
     "output_type": "stream",
     "text": [
      "2\n",
      "1\n",
      "3\n",
      "1\n",
      "4\n",
      "1\n",
      "5\n",
      "1\n",
      "6\n",
      "1\n",
      "7\n",
      "1\n"
     ]
    },
    {
     "data": {
      "text/plain": [
       "([0, 0, 0, 0, 1, 1, 0, 1, 1, 0, 0, 1, 1, 0, 0, 1, 1, 1, 1, 0, 1], True)"
      ]
     },
     "execution_count": 109,
     "metadata": {},
     "output_type": "execute_result"
    }
   ],
   "source": [
    "move_to_nearest_satisfying(1, [0,1,0,0,0,1,1,0,1,0,0,1,1,0,0,1,1,1,1,0,1])"
   ]
  },
  {
   "cell_type": "code",
   "execution_count": 110,
   "metadata": {
    "collapsed": false
   },
   "outputs": [
    {
     "name": "stdout",
     "output_type": "stream",
     "text": [
      "2\n",
      "1\n",
      "3\n",
      "1\n",
      "4\n",
      "1\n",
      "5\n",
      "1\n",
      "6\n",
      "1\n",
      "7\n",
      "1\n",
      "1 moved to: 7\n"
     ]
    },
    {
     "data": {
      "text/plain": [
       "([0, 0, 0, 0, 1, 1, 0, 1, 1, 0, 0, 1, 1, 0, 0, 1, 1, 1, 1, 0, 1], True)"
      ]
     },
     "execution_count": 110,
     "metadata": {},
     "output_type": "execute_result"
    }
   ],
   "source": [
    "move_to_nearest_satisfying(1, [0,1,0,0,0,1,1,0,1,0,0,1,1,0,0,1,1,1,1,0,1], verbose = True)"
   ]
  },
  {
   "cell_type": "code",
   "execution_count": 77,
   "metadata": {
    "collapsed": true
   },
   "outputs": [],
   "source": [
    "###############################################################################\n",
    "# GLOBAL DYNAMICS\n",
    "###############################################################################\n",
    "# Note: departs a little bit from Schelling's specification here\n",
    "# Interesting problem of non convergence here when no maxIterations condition\n",
    "# the penultimate individual moves to the last position, and so on\n",
    "\n",
    "\n",
    "def dynamics(state, verbose = False, stepwise = False):\n",
    "    '''\n",
    "    departs a little bit from Schelling's specification here\n",
    "    '''\n",
    "    moved = True\n",
    "    iterations = 0\n",
    "    while moved and iterations < maxIterations:\n",
    "        moved = False\n",
    "        for i in range(len(state)):\n",
    "            if not (is_happy(i, state)):\n",
    "                s, moved = move_to_nearest_satisfying(i, state, verbose=True)\n",
    "        if verbose:\n",
    "            print(str_state(state))\n",
    "            print(str_unhappy(state))\n",
    "            print(count_unhappy(state))\n",
    "        if stepwise:\n",
    "            input(\"Press Enter to continue...\")\n",
    "        iterations += 1\n",
    "    return state"
   ]
  },
  {
   "cell_type": "code",
   "execution_count": 111,
   "metadata": {
    "collapsed": false
   },
   "outputs": [
    {
     "name": "stdout",
     "output_type": "stream",
     "text": [
      "2\n",
      "1\n",
      "3\n",
      "1\n",
      "4\n",
      "1\n",
      "5\n",
      "1\n",
      "6\n",
      "1\n",
      "7\n",
      "1\n",
      "1 moved to: 7\n",
      "6\n",
      "5\n",
      "7\n",
      "5\n",
      "8\n",
      "5\n",
      "5 moved to: 8\n",
      "7\n",
      "6\n",
      "8\n",
      "6\n",
      "6 moved to: 8\n",
      "10\n",
      "9\n",
      "9 moved to: 10\n",
      "12\n",
      "11\n",
      "11 moved to: 12\n",
      "14\n",
      "13\n",
      "15\n",
      "13\n",
      "16\n",
      "13\n",
      "17\n",
      "13\n",
      "18\n",
      "13\n",
      "19\n",
      "13\n",
      "20\n",
      "13\n",
      "21\n",
      "13\n"
     ]
    },
    {
     "ename": "IndexError",
     "evalue": "list index out of range",
     "output_type": "error",
     "traceback": [
      "\u001b[0;31m---------------------------------------------------------------------------\u001b[0m",
      "\u001b[0;31mIndexError\u001b[0m                                Traceback (most recent call last)",
      "\u001b[0;32m<ipython-input-111-adfbfb521bbb>\u001b[0m in \u001b[0;36m<module>\u001b[0;34m()\u001b[0m\n\u001b[0;32m----> 1\u001b[0;31m \u001b[0mdynamics\u001b[0m\u001b[0;34m(\u001b[0m\u001b[0;34m[\u001b[0m\u001b[0;36m0\u001b[0m\u001b[0;34m,\u001b[0m \u001b[0;36m1\u001b[0m\u001b[0;34m,\u001b[0m \u001b[0;36m0\u001b[0m\u001b[0;34m,\u001b[0m \u001b[0;36m0\u001b[0m\u001b[0;34m,\u001b[0m \u001b[0;36m0\u001b[0m\u001b[0;34m,\u001b[0m \u001b[0;36m1\u001b[0m\u001b[0;34m,\u001b[0m \u001b[0;36m1\u001b[0m\u001b[0;34m,\u001b[0m \u001b[0;36m0\u001b[0m\u001b[0;34m,\u001b[0m \u001b[0;36m1\u001b[0m\u001b[0;34m,\u001b[0m \u001b[0;36m0\u001b[0m\u001b[0;34m,\u001b[0m \u001b[0;36m0\u001b[0m\u001b[0;34m,\u001b[0m \u001b[0;36m1\u001b[0m\u001b[0;34m,\u001b[0m \u001b[0;36m1\u001b[0m\u001b[0;34m,\u001b[0m \u001b[0;36m0\u001b[0m\u001b[0;34m,\u001b[0m \u001b[0;36m0\u001b[0m\u001b[0;34m,\u001b[0m \u001b[0;36m1\u001b[0m\u001b[0;34m,\u001b[0m \u001b[0;36m1\u001b[0m\u001b[0;34m,\u001b[0m \u001b[0;36m1\u001b[0m\u001b[0;34m,\u001b[0m \u001b[0;36m1\u001b[0m\u001b[0;34m,\u001b[0m \u001b[0;36m0\u001b[0m\u001b[0;34m,\u001b[0m \u001b[0;36m1\u001b[0m\u001b[0;34m]\u001b[0m\u001b[0;34m)\u001b[0m\u001b[0;34m\u001b[0m\u001b[0m\n\u001b[0m",
      "\u001b[0;32m<ipython-input-77-e0328ca71996>\u001b[0m in \u001b[0;36mdynamics\u001b[0;34m(state, verbose, stepwise)\u001b[0m\n\u001b[1;32m     17\u001b[0m         \u001b[0;32mfor\u001b[0m \u001b[0mi\u001b[0m \u001b[0;32min\u001b[0m \u001b[0mrange\u001b[0m\u001b[0;34m(\u001b[0m\u001b[0mlen\u001b[0m\u001b[0;34m(\u001b[0m\u001b[0mstate\u001b[0m\u001b[0;34m)\u001b[0m\u001b[0;34m)\u001b[0m\u001b[0;34m:\u001b[0m\u001b[0;34m\u001b[0m\u001b[0m\n\u001b[1;32m     18\u001b[0m             \u001b[0;32mif\u001b[0m \u001b[0;32mnot\u001b[0m \u001b[0;34m(\u001b[0m\u001b[0mis_happy\u001b[0m\u001b[0;34m(\u001b[0m\u001b[0mi\u001b[0m\u001b[0;34m,\u001b[0m \u001b[0mstate\u001b[0m\u001b[0;34m)\u001b[0m\u001b[0;34m)\u001b[0m\u001b[0;34m:\u001b[0m\u001b[0;34m\u001b[0m\u001b[0m\n\u001b[0;32m---> 19\u001b[0;31m                 \u001b[0ms\u001b[0m\u001b[0;34m,\u001b[0m \u001b[0mmoved\u001b[0m \u001b[0;34m=\u001b[0m \u001b[0mmove_to_nearest_satisfying\u001b[0m\u001b[0;34m(\u001b[0m\u001b[0mi\u001b[0m\u001b[0;34m,\u001b[0m \u001b[0mstate\u001b[0m\u001b[0;34m,\u001b[0m \u001b[0mverbose\u001b[0m\u001b[0;34m=\u001b[0m\u001b[0;32mTrue\u001b[0m\u001b[0;34m)\u001b[0m\u001b[0;34m\u001b[0m\u001b[0m\n\u001b[0m\u001b[1;32m     20\u001b[0m         \u001b[0;32mif\u001b[0m \u001b[0mverbose\u001b[0m\u001b[0;34m:\u001b[0m\u001b[0;34m\u001b[0m\u001b[0m\n\u001b[1;32m     21\u001b[0m             \u001b[0mprint\u001b[0m\u001b[0;34m(\u001b[0m\u001b[0mstr_state\u001b[0m\u001b[0;34m(\u001b[0m\u001b[0mstate\u001b[0m\u001b[0;34m)\u001b[0m\u001b[0;34m)\u001b[0m\u001b[0;34m\u001b[0m\u001b[0m\n",
      "\u001b[0;32m<ipython-input-108-941456e2efa0>\u001b[0m in \u001b[0;36mmove_to_nearest_satisfying\u001b[0;34m(c, s, verbose)\u001b[0m\n\u001b[1;32m     14\u001b[0m         \u001b[0mnew_s\u001b[0m \u001b[0;34m=\u001b[0m \u001b[0mcopy\u001b[0m\u001b[0;34m.\u001b[0m\u001b[0mcopy\u001b[0m\u001b[0;34m(\u001b[0m\u001b[0ms\u001b[0m\u001b[0;34m)\u001b[0m \u001b[0;31m# used to simulate the move\u001b[0m\u001b[0;34m\u001b[0m\u001b[0m\n\u001b[1;32m     15\u001b[0m         \u001b[0;32mif\u001b[0m \u001b[0mc\u001b[0m\u001b[0;34m+\u001b[0m\u001b[0mmove_distance\u001b[0m \u001b[0;34m<\u001b[0m \u001b[0msize\u001b[0m\u001b[0;34m:\u001b[0m\u001b[0;34m\u001b[0m\u001b[0m\n\u001b[0;32m---> 16\u001b[0;31m             \u001b[0mnew_s\u001b[0m \u001b[0;34m=\u001b[0m \u001b[0mmove_to\u001b[0m\u001b[0;34m(\u001b[0m\u001b[0mc\u001b[0m\u001b[0;34m,\u001b[0m \u001b[0mc\u001b[0m\u001b[0;34m+\u001b[0m\u001b[0mmove_distance\u001b[0m\u001b[0;34m,\u001b[0m \u001b[0mnew_s\u001b[0m\u001b[0;34m)\u001b[0m\u001b[0;34m\u001b[0m\u001b[0m\n\u001b[0m\u001b[1;32m     17\u001b[0m             \u001b[0;32mif\u001b[0m \u001b[0mis_happy\u001b[0m\u001b[0;34m(\u001b[0m\u001b[0mc\u001b[0m\u001b[0;34m+\u001b[0m\u001b[0mmove_distance\u001b[0m\u001b[0;34m,\u001b[0m \u001b[0mnew_s\u001b[0m\u001b[0;34m)\u001b[0m\u001b[0;34m:\u001b[0m\u001b[0;34m\u001b[0m\u001b[0m\n\u001b[1;32m     18\u001b[0m                 \u001b[0msatisfied\u001b[0m \u001b[0;34m=\u001b[0m \u001b[0;32mTrue\u001b[0m\u001b[0;34m\u001b[0m\u001b[0m\n",
      "\u001b[0;32m<ipython-input-106-99b66a91844a>\u001b[0m in \u001b[0;36mmove_to\u001b[0;34m(c, p, s)\u001b[0m\n\u001b[1;32m     19\u001b[0m         \u001b[0mprint\u001b[0m\u001b[0;34m(\u001b[0m\u001b[0mc\u001b[0m\u001b[0;34m)\u001b[0m\u001b[0;34m\u001b[0m\u001b[0m\n\u001b[1;32m     20\u001b[0m         \u001b[0;32mfor\u001b[0m \u001b[0mi\u001b[0m \u001b[0;32min\u001b[0m \u001b[0mrange\u001b[0m\u001b[0;34m(\u001b[0m\u001b[0mc\u001b[0m\u001b[0;34m,\u001b[0m \u001b[0mp\u001b[0m\u001b[0;34m)\u001b[0m\u001b[0;34m:\u001b[0m\u001b[0;34m\u001b[0m\u001b[0m\n\u001b[0;32m---> 21\u001b[0;31m             \u001b[0mnew_s\u001b[0m\u001b[0;34m[\u001b[0m\u001b[0mi\u001b[0m\u001b[0;34m]\u001b[0m \u001b[0;34m=\u001b[0m \u001b[0mnew_s\u001b[0m\u001b[0;34m[\u001b[0m\u001b[0mi\u001b[0m\u001b[0;34m+\u001b[0m\u001b[0;36m1\u001b[0m\u001b[0;34m]\u001b[0m\u001b[0;34m\u001b[0m\u001b[0m\n\u001b[0m\u001b[1;32m     22\u001b[0m             \u001b[0mnew_s\u001b[0m\u001b[0;34m[\u001b[0m\u001b[0mi\u001b[0m\u001b[0;34m+\u001b[0m\u001b[0;36m1\u001b[0m\u001b[0;34m]\u001b[0m \u001b[0;34m=\u001b[0m \u001b[0mmy_color\u001b[0m\u001b[0;34m\u001b[0m\u001b[0m\n\u001b[1;32m     23\u001b[0m     \u001b[0;32melse\u001b[0m\u001b[0;34m:\u001b[0m   \u001b[0;31m# moving to the left\u001b[0m\u001b[0;34m\u001b[0m\u001b[0m\n",
      "\u001b[0;31mIndexError\u001b[0m: list index out of range"
     ]
    }
   ],
   "source": [
    "dynamics([0, 1, 0, 0, 0, 1, 1, 0, 1, 0, 0, 1, 1, 0, 0, 1, 1, 1, 1, 0, 1])"
   ]
  },
  {
   "cell_type": "code",
   "execution_count": 92,
   "metadata": {
    "collapsed": false
   },
   "outputs": [
    {
     "name": "stdout",
     "output_type": "stream",
     "text": [
      "0100011010011001110110110011001100110101001110110000011100010011010110\n",
      " X   XX  X X XX   X  X  X        X   XX XX   X X     XXX   X  X X X XX\n"
     ]
    },
    {
     "ename": "NameError",
     "evalue": "name 'count_unhappy' is not defined",
     "output_type": "error",
     "traceback": [
      "\u001b[0;31m---------------------------------------------------------------------------\u001b[0m",
      "\u001b[0;31mNameError\u001b[0m                                 Traceback (most recent call last)",
      "\u001b[0;32m<ipython-input-92-d77e28ddb1a1>\u001b[0m in \u001b[0;36m<module>\u001b[0;34m()\u001b[0m\n\u001b[1;32m     25\u001b[0m \u001b[0mprint\u001b[0m\u001b[0;34m(\u001b[0m\u001b[0mstr_state\u001b[0m\u001b[0;34m(\u001b[0m\u001b[0mcells\u001b[0m\u001b[0;34m)\u001b[0m\u001b[0;34m)\u001b[0m\u001b[0;34m\u001b[0m\u001b[0m\n\u001b[1;32m     26\u001b[0m \u001b[0mprint\u001b[0m\u001b[0;34m(\u001b[0m\u001b[0mstr_unhappy\u001b[0m\u001b[0;34m(\u001b[0m\u001b[0mcells\u001b[0m\u001b[0;34m)\u001b[0m\u001b[0;34m)\u001b[0m\u001b[0;34m\u001b[0m\u001b[0m\n\u001b[0;32m---> 27\u001b[0;31m \u001b[0mprint\u001b[0m\u001b[0;34m(\u001b[0m\u001b[0;34m\"number of 0/1 unsatisfied:\"\u001b[0m\u001b[0;34m,\u001b[0m \u001b[0mcount_unhappy\u001b[0m\u001b[0;34m(\u001b[0m\u001b[0mcells\u001b[0m\u001b[0;34m)\u001b[0m\u001b[0;34m)\u001b[0m\u001b[0;34m\u001b[0m\u001b[0m\n\u001b[0m\u001b[1;32m     28\u001b[0m \u001b[0mprint\u001b[0m\u001b[0;34m(\u001b[0m\u001b[0;34m\"average level of satisfaction:\"\u001b[0m\u001b[0;34m,\u001b[0m \u001b[0maverage_homogeneity\u001b[0m\u001b[0;34m(\u001b[0m\u001b[0mcells\u001b[0m\u001b[0;34m)\u001b[0m\u001b[0;34m)\u001b[0m\u001b[0;34m\u001b[0m\u001b[0m\n\u001b[1;32m     29\u001b[0m \u001b[0mprint\u001b[0m\u001b[0;34m(\u001b[0m\u001b[0;34m\"average cluster size:\"\u001b[0m\u001b[0;34m,\u001b[0m \u001b[0maverage_cluster_size\u001b[0m\u001b[0;34m(\u001b[0m\u001b[0mcells\u001b[0m\u001b[0;34m)\u001b[0m\u001b[0;34m)\u001b[0m\u001b[0;34m\u001b[0m\u001b[0m\n",
      "\u001b[0;31mNameError\u001b[0m: name 'count_unhappy' is not defined"
     ]
    }
   ],
   "source": [
    "###############################################################################\n",
    "# METRICS: A FAIRE\n",
    "# count_unhappy(), average_homogeneity(), average_cluster_size()\n",
    "###############################################################################\n",
    "\n",
    "\n",
    "###############################################################################\n",
    "#  SIMULATIONS: A FAIRE\n",
    "###############################################################################\n",
    "\n",
    "\n",
    "###############################################################################\n",
    "# TESTING\n",
    "###############################################################################\n",
    "\n",
    "\n",
    "# Schelling original list\n",
    "\n",
    "cells = [0,1,0,0,0,1,1,0,1,0,0,1,1,0,0,1,1,1,0,1,1,0,1,1,0,0,1,1,0,0,1,1,0,0,1,1,0,1,0,1,0,0,1,1,1,0,1,1,0,0,0,0,0,1,1,1,0,0,0,1,0,0,1,1,0,1,0,1,1,0]\n",
    "\n",
    "sample_size = 100\n",
    "\n",
    "# Printing the list and some metrics\n",
    "\n",
    "print(str_state(cells))\n",
    "print(str_unhappy(cells))\n",
    "print(\"number of 0/1 unsatisfied:\", count_unhappy(cells))\n",
    "print(\"average level of satisfaction:\", average_homogeneity(cells))\n",
    "print(\"average cluster size:\", average_cluster_size(cells))\n",
    "\n",
    "# Testing moving agent 1 in the initial Schelling list\n",
    "\n",
    "new_cells,_ = move_to_nearest_satisfying(1, cells, True)\n",
    "print(str_state(new_cells))\n",
    "\n",
    "# Testing simulations, for neighbourhood from 1 to 8\n",
    "\n",
    "rslt = simulations([1, 2, 3, 4, 5, 6, 7, 8], 0.5, sample_size)\n",
    "draw_simulations(rslt, sample_size)"
   ]
  },
  {
   "cell_type": "code",
   "execution_count": null,
   "metadata": {
    "collapsed": true
   },
   "outputs": [],
   "source": []
  }
 ],
 "metadata": {
  "kernelspec": {
   "display_name": "Python 3",
   "language": "python",
   "name": "python3"
  },
  "language_info": {
   "codemirror_mode": {
    "name": "ipython",
    "version": 3
   },
   "file_extension": ".py",
   "mimetype": "text/x-python",
   "name": "python",
   "nbconvert_exporter": "python",
   "pygments_lexer": "ipython3",
   "version": "3.6.0"
  }
 },
 "nbformat": 4,
 "nbformat_minor": 2
}
