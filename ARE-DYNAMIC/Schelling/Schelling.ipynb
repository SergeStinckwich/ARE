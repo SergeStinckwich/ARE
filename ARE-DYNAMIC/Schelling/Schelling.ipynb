{
 "cells": [
  {
   "cell_type": "markdown",
   "metadata": {},
   "source": [
    "# Le modèle de ségrégation de Schelling"
   ]
  },
  {
   "cell_type": "markdown",
   "metadata": {},
   "source": [
    "En Décembre 2016 disparaissait Thomas C. Schelling. Economiste, récipiendaire du Prix de la Banque de Suède en sciences économiques en mémoire d’Alfred Nobel (communément appelé –et considéré– comme le prix Nobel d’Economie), il a travaillé sur de nombreux sujets, en particulier l’analyse des conflits.\n",
    "\n",
    "Une de ses contributions a permis de mieux comprendre les phénomènes de ségrégation. Plus précisément, le propos de Schelling fut d’étu- dier la dynamique par laquelle des phénomènes de ségrégation extrêmes peuvent survenir, en dépit de préférences qui peuvent sembler faiblement discriminantes individuellement. Ainsi, même si chaque individu se dé- clare prêt à accepter une certaine proportion d’invidus « différents » dans son voisinage, le résultat final peut être que la population se regroupe en régions très homogènes.\n",
    "\n",
    "Cette étude peut être menée à l’aide de modèles connus sous le nom d’automates cellulaires. Un des automates les plus célèbres est le jeu de la vie, proposé par John Conway en 1970. Il existe de nombreux autres automates cellulaires dont le comportement est relativement bien étudié, et la littérature est riche à ce sujet. Nous recommandons la lecture de l’article [2] de Jean-Paul Delahaye."
   ]
  },
  {
   "cell_type": "code",
   "execution_count": 27,
   "metadata": {
    "collapsed": true
   },
   "outputs": [],
   "source": [
    "import numpy as np\n",
    "import random\n",
    "import copy\n",
    "\n",
    "from matplotlib import pyplot as plt\n",
    "\n",
    "# GLOBAL PARAMETERS FOR EXPERIMENTS\n",
    "neighb = 4          # size of neighbourhood\n",
    "threshold = 0.5     # threshold of satisfaction\n",
    "maxIterations = 5   # max number of iteration for convergence\n",
    "size = 22           # size of the line"
   ]
  },
  {
   "cell_type": "markdown",
   "metadata": {},
   "source": [
    "Un état de l'automate cellulaire est représenté sous la forme d'une liste de 0 et de 1. Par exemple:"
   ]
  },
  {
   "cell_type": "code",
   "execution_count": 2,
   "metadata": {
    "collapsed": false
   },
   "outputs": [],
   "source": [
    "cells = [0, 1, 0, 0, 0, 1, 1, 0, 1, 0, 0, 1, 1, 1, 0, 0, 1, 1, 1, 1, 0, 1]"
   ]
  },
  {
   "cell_type": "markdown",
   "metadata": {},
   "source": [
    "La fonction ```str_state``` convertit un automate cellulaire en une chaîne de caractères pour l'afficher à l'écran."
   ]
  },
  {
   "cell_type": "code",
   "execution_count": 4,
   "metadata": {
    "collapsed": true
   },
   "outputs": [],
   "source": [
    "def str_state(state):\n",
    "    '''\n",
    "    return the state as a string\n",
    "    '''\n",
    "    result = \"\"\n",
    "    for i in state:\n",
    "        result += str(i)\n",
    "    return result"
   ]
  },
  {
   "cell_type": "code",
   "execution_count": 13,
   "metadata": {
    "collapsed": false
   },
   "outputs": [
    {
     "data": {
      "text/plain": [
       "'0100011010011100111101'"
      ]
     },
     "execution_count": 13,
     "metadata": {},
     "output_type": "execute_result"
    }
   ],
   "source": [
    "str_state(cells)"
   ]
  },
  {
   "cell_type": "markdown",
   "metadata": {},
   "source": [
    "La fonction ```hogeneinity_level``` calcule pour l'individu à la position c, le ratio d'individus du même type."
   ]
  },
  {
   "cell_type": "code",
   "execution_count": 6,
   "metadata": {
    "collapsed": true
   },
   "outputs": [],
   "source": [
    "def homogeneinity_level(position, state):\n",
    "    '''\n",
    "    for a given individual at position and state\n",
    "    returns the ratio of individuals of same type in neighbourhood\n",
    "    '''\n",
    "    my_color = state[position]\n",
    "    count = 0\n",
    "    nb_neighb = 0\n",
    "    for i in range(1, neighb+1):\n",
    "        if position+i < len(state):\n",
    "            nb_neighb += 1\n",
    "            if state[position+i] == my_color:\n",
    "                count += 1\n",
    "        if position-i >= 0:\n",
    "            nb_neighb += 1\n",
    "            if state[position-i] == my_color:\n",
    "                count += 1\n",
    "    return float(count / nb_neighb)"
   ]
  },
  {
   "cell_type": "code",
   "execution_count": 7,
   "metadata": {
    "collapsed": false
   },
   "outputs": [
    {
     "data": {
      "text/plain": [
       "0.2"
      ]
     },
     "execution_count": 7,
     "metadata": {},
     "output_type": "execute_result"
    }
   ],
   "source": [
    "homogeneinity_level(1,cells)"
   ]
  },
  {
   "cell_type": "code",
   "execution_count": 8,
   "metadata": {
    "collapsed": true
   },
   "outputs": [],
   "source": [
    "def is_happy(position, state, verbose = False):\n",
    "    '''\n",
    "    returns whether individual at position is satisfied in a given state\n",
    "    '''\n",
    "    h = homogeneinity_level(position, state)\n",
    "    if verbose:\n",
    "        print(h)\n",
    "    return h >= threshold"
   ]
  },
  {
   "cell_type": "code",
   "execution_count": 9,
   "metadata": {
    "collapsed": false
   },
   "outputs": [
    {
     "data": {
      "text/plain": [
       "False"
      ]
     },
     "execution_count": 9,
     "metadata": {},
     "output_type": "execute_result"
    }
   ],
   "source": [
    "is_happy(1, cells)"
   ]
  },
  {
   "cell_type": "markdown",
   "metadata": {},
   "source": [
    "Il est également possible d'afficher sous forme de chaine de caractère quels individus sont insatisfaits (notés 'X'). "
   ]
  },
  {
   "cell_type": "code",
   "execution_count": 10,
   "metadata": {
    "collapsed": true
   },
   "outputs": [],
   "source": [
    "def str_unhappy(string):\n",
    "    '''\n",
    "    returns the string marking unhappy individuals with a 'X'\n",
    "    '''\n",
    "    result = \"\"\n",
    "    for i in range(len(string)):\n",
    "        if is_happy(i, string):\n",
    "            result += \" \"\n",
    "        else:\n",
    "            result += \"X\"\n",
    "    return result"
   ]
  },
  {
   "cell_type": "code",
   "execution_count": 15,
   "metadata": {
    "collapsed": false
   },
   "outputs": [
    {
     "name": "stdout",
     "output_type": "stream",
     "text": [
      "0100011010011100111101\n",
      " X   XX  XXX  XX    X \n"
     ]
    }
   ],
   "source": [
    "print(str_state(cells))\n",
    "print(str_unhappy(str_state(cells)))"
   ]
  },
  {
   "cell_type": "markdown",
   "metadata": {},
   "source": [
    "La fonction ```move_to``` déplace un individu vers une nouvelle position à droite ou à gauche. La priorité est donnée au déplacement à droite."
   ]
  },
  {
   "cell_type": "code",
   "execution_count": 20,
   "metadata": {
    "collapsed": true
   },
   "outputs": [],
   "source": [
    "def move_to(c, p, s):\n",
    "    '''\n",
    "    c position initiale\n",
    "    p position où l'on déplace l'agent\n",
    "    moves individual c to position p, shifting other individuals\n",
    "    s state\n",
    "    and returns the resulting list\n",
    "    '''\n",
    "    new_s = copy.copy(s) # new list for result\n",
    "    my_color = new_s[c]\n",
    "    # gives priority to the right move in case of ties\n",
    "    # I didn't find this specification in Schelling's paper\n",
    "    if p > c: # moving to the right\n",
    "        for i in range(c, p):\n",
    "            new_s[i] = s[i+1]\n",
    "            new_s[i+1] = my_color\n",
    "    else:   # moving to the left\n",
    "\n",
    "        for i in range(p, c):\n",
    "            new_s[i+1] = s[i]\n",
    "            new_s[p] = my_color\n",
    "    return new_s"
   ]
  },
  {
   "cell_type": "code",
   "execution_count": 21,
   "metadata": {
    "collapsed": false
   },
   "outputs": [
    {
     "name": "stdout",
     "output_type": "stream",
     "text": [
      "Avant le déplacement: 0100011010011100111101\n",
      "Après le déplacement: 0000110110011100111101\n"
     ]
    }
   ],
   "source": [
    "new_cells = move_to(1, 7, cells)\n",
    "print(\"Avant le déplacement:\", str_state(cells))\n",
    "print(\"Après le déplacement:\", str_state(new_cells))"
   ]
  },
  {
   "cell_type": "code",
   "execution_count": 28,
   "metadata": {
    "collapsed": true
   },
   "outputs": [],
   "source": [
    "def move_to_nearest_satisfying(c, s, verbose=False):\n",
    "    '''\n",
    "    will move individual c to nearest satisfying location\n",
    "    simulate the move and check whether satisfying\n",
    "    note: very inefficient but simple solution\n",
    "    '''\n",
    "\n",
    "    move_limit = max(size-c, c)\n",
    "    move_distance = 0\n",
    "    new_s = []\n",
    "    satisfied = False\n",
    "    while move_distance < move_limit and not(satisfied):\n",
    "        move_distance += 1\n",
    "        new_s = copy.copy(s) # used to simulate the move\n",
    "        if c+move_distance < size:\n",
    "            new_s = move_to(c, c+move_distance, s)\n",
    "            if is_happy(c+move_distance, new_s):\n",
    "                satisfied = True\n",
    "                if verbose:\n",
    "                    print (c, \"moved to:\", c+move_distance)\n",
    "        else: # trying to move left\n",
    "            if c-move_distance >= 0:\n",
    "                new_s = copy.copy(s)\n",
    "                new_s = move_to(c, c-move_distance, s)\n",
    "                satisfied = is_happy(c-move_distance, new_s)\n",
    "                if verbose and satisfied:\n",
    "                    print (c, \" moved to:\", c-move_distance)\n",
    "    return new_s, satisfied"
   ]
  },
  {
   "cell_type": "code",
   "execution_count": 36,
   "metadata": {
    "collapsed": false
   },
   "outputs": [
    {
     "name": "stdout",
     "output_type": "stream",
     "text": [
      "Avant le déplacement: 0100011010011100111101\n",
      "1 moved to: 7\n",
      "Après le déplacement: 0000110110011100111101\n"
     ]
    }
   ],
   "source": [
    "print (\"Avant le déplacement:\", str_state(cells))\n",
    "new_cells, sat = move_to_nearest_satisfying(1, cells,True)\n",
    "print (\"Après le déplacement:\", str_state(new_cells))"
   ]
  },
  {
   "cell_type": "markdown",
   "metadata": {},
   "source": [
    "### Dynamique\n",
    "\n",
    "La dynamique consiste ensuite à répéter les déplacements. Schelling suggère de considérer les individus un par un, en partant de la gauche, et de les faire se déplacer s'ils le peuvent. Un *tour* est terminé lorsque tous les individus ont été considérés, et on peut répéter ainsi les tours. Mais quand s'arrêter avec cette dynamique? \n",
    "\n",
    "On pourrait penser différents critères de convergence dans notre cas:\n",
    "* lorsque tous les individus sont satisfaits. Malheureusement, rien ne garantit que le système puisse parvenir à un état où tous les individus sont satisfaits (cela peut arriver mais c'est plutôt exceptionnel). \n",
    "* lorsque plus aucun individu ne peut se déplacer. Ce critère est plus pertinent, mais il cache une difficulté: le système ne parvient pas non plus nécessairement dans un état où plus aucun individus ne peut se déplacer. Ce critère seul peut donc mener à des boucles infinies. \n",
    "* nous emploierons donc un garde-fou, qui consistera à poser un nombre maximal d'itérations. Si le système n'est pas stabilisé selon le critère précédent après ce nombre d'itérations, la dynamique s'arrête. "
   ]
  },
  {
   "cell_type": "code",
   "execution_count": 50,
   "metadata": {
    "collapsed": true
   },
   "outputs": [],
   "source": [
    "###############################################################################\n",
    "# GLOBAL DYNAMICS\n",
    "###############################################################################\n",
    "# Note: departs a little bit from Schelling's specification here\n",
    "# Interesting problem of non convergence here when no maxIterations condition\n",
    "# the penultimate individual moves to the last position, and so on\n",
    "\n",
    "\n",
    "def dynamics(state, verbose = False, stepwise = False):\n",
    "    '''\n",
    "    departs a little bit from Schelling's specification here\n",
    "    '''\n",
    "    one_has_moved = True\n",
    "    iterations = 0\n",
    "    while one_has_moved and iterations < maxIterations:\n",
    "        one_has_moved = False\n",
    "        for i in range(len(state)):\n",
    "            if not (is_happy(i, state)): # i wants to move\n",
    "                state, moved = move_to_nearest_satisfying(i, state, False)\n",
    "                one_has_moved = moved or one_has_moved\n",
    "        if verbose:\n",
    "            print (\"Tour :\", iterations)\n",
    "            print(str_state(state))\n",
    "            print(str_unhappy(state))\n",
    "            #print(count_unhappy(state))\n",
    "        if stepwise:\n",
    "            input(\"Press Enter to continue...\")\n",
    "        iterations += 1\n",
    "    return state"
   ]
  },
  {
   "cell_type": "code",
   "execution_count": 51,
   "metadata": {
    "collapsed": false
   },
   "outputs": [
    {
     "name": "stdout",
     "output_type": "stream",
     "text": [
      "Tour : 0\n",
      "0000100101010011111111\n",
      "    X  X X  XX        \n",
      "Tour : 1\n",
      "0000000000111111111111\n",
      "                      \n",
      "Tour : 2\n",
      "0000000000111111111111\n",
      "                      \n"
     ]
    }
   ],
   "source": [
    "new_cells = dynamics(cells,True)"
   ]
  },
  {
   "cell_type": "markdown",
   "metadata": {},
   "source": [
    "Pour cet état initial on a donc une convergence directe. La dynamique s'arrête au tour 2 car plus aucun individu ne souhaite se déplacer. Mais considérons un autre état initial:"
   ]
  },
  {
   "cell_type": "code",
   "execution_count": 47,
   "metadata": {
    "collapsed": false
   },
   "outputs": [
    {
     "name": "stdout",
     "output_type": "stream",
     "text": [
      "Tour : 0\n",
      "1111000\n",
      "    XX \n",
      "Tour : 1\n",
      "1111000\n",
      "    XX \n",
      "Tour : 2\n",
      "1111000\n",
      "    XX \n",
      "Tour : 3\n",
      "1111000\n",
      "    XX \n",
      "Tour : 4\n",
      "1111000\n",
      "    XX \n"
     ]
    }
   ],
   "source": [
    "cells2 = [1,1,1,1,0,0,0]\n",
    "new_cells2 = dynamics (cells2,True)"
   ]
  },
  {
   "cell_type": "markdown",
   "metadata": {},
   "source": [
    "Cette fois la dynamique s'arrête grâce à la limite sur le nombre d'itérations. Comprenez-vous pourquoi? "
   ]
  }
 ],
 "metadata": {
  "anaconda-cloud": {},
  "kernelspec": {
   "display_name": "Python [default]",
   "language": "python",
   "name": "python3"
  },
  "language_info": {
   "codemirror_mode": {
    "name": "ipython",
    "version": 3
   },
   "file_extension": ".py",
   "mimetype": "text/x-python",
   "name": "python",
   "nbconvert_exporter": "python",
   "pygments_lexer": "ipython3",
   "version": "3.5.2"
  }
 },
 "nbformat": 4,
 "nbformat_minor": 2
}
