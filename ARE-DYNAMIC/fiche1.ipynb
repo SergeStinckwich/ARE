{
 "cells": [
  {
   "cell_type": "markdown",
   "metadata": {},
   "source": [
    "# Simuler des sytèmes dynamiques en Python\n",
    "\n",
    "_Ce document est librement inspiré du [tutoriel NumPy de Nicolas Rougier](http://www.labri.fr/perso/nrougier/teaching/numpy/numpy.html) et est disponible avec son autorisation sous licence Creative Commons Attribution 3.0 United States License (CC-by) http://creativecommons.org/licenses/by/3.0/us_\n",
    "\n",
    "La simulation numérique (ou informatique) permet de représenter dans une machine (ordinateur) un phénomène écologique ou physique que l'on veut étudier à moindre coût et sans danger. \n",
    "\n",
    "\n",
    "## Systèmes dynamiques\n",
    "On va s'intéresser à la simulation de **système dynamiques**. Un système dynamique est un système dont l'état dépend uniquement par un ensemble de variables et dont le comportement est décrit par un ensemble de régles prédéfinies.\n",
    "\n",
    "Exemple de systèmes dynamiques: croissance d'une population, mouvement d'un pendule, déplacement des corps célestes, etc ...\n",
    "\n",
    "On distingue généralement deux types de simulation: ``simulation continue`` et ``simulation discrète`` :\n",
    "* Systèmes dynamiques discrets, généralement décrit par une équation de récurrence : $x(t) = F(x(t-1), t)$.\n",
    "Le principe d'une ``simulation discrète`` d'un phénonème physique ou écologique consiste à représenter l'état initial de la simulation, puis ensuite de construire une fonction qui à partir d'un état précédent va déterminer l'état suivant de la simulation.\n",
    "L'application de cette fonction permet de passer du temps t0 au temps t1, puis t2, etc ... Généralement, on arrrête la simulation au bout d'un certain nombre d'application de la fonction (n) déterminé à l'avance.\n",
    "\n",
    "* Systèmes dynamiques continus, généralement décrit par une ou plusieurs équations différentielles: $\\frac{dx}{dt} = F(x,t)$. Une ``simulation continue`` permet de représenter de manière continue les changements d'un système physique ou biologique. Généralement on emploie pour cela, des [équations différentielles](http://fr.wikipedia.org/wiki/%C3%89quation_diff%C3%A9rentielle).\n",
    "\n",
    "On ne va s'intéresser ici qu'à des simulations discrètes. Dans une simulation discrète, le temps est discrétisé en durée similaire. Chaque étape peut correspondre en fonction du phénomène considérée à une durée de 1 ms, 1s, 1 jour ou bien 1000 ans. Les systèmes dynamiques sont les plus simples à comprendre, représenter et simuler par un ordinateur. Ce ceux les systèmes qui nous intéresserons le plus ici.\n",
    "\n",
    "Commencons par simuler en Python un système dynamique constituée d'une seule variable.\n",
    "On va prendre l'équation de récurrence/ \n",
    "_x(t) = a x(t-1)_\n",
    "\n",
    "a est un paramètre qui représente le ratio entre l'état courant du système et l'état suivant. la simulation informatique va nous permettre de comprendre la dynamique d'un tel système.\n",
    "\n",
    "Afin de construire une simulation informatique, on a besoin de définir en général au moins 3 fonctions : \n",
    "\n",
    "- **initialize**: fonction afin de fixer les valeurs initiales de l'ensemble des variables du système dynamique\n",
    "- **observe**: fonction où l'on définit quels les états que l'on veut observer du système. On pourra par exemple afficher certaines variables ou bien faire un graphe\n",
    "- **update**: fonction de mise à jour des valeurs des variables en fonction de l'état courant.\n",
    "\n",
    "Voici un code Python pour l'initialisation:\n",
    "\n",
    "```python\n",
    "def initialize():\n",
    "    global x\n",
    "    x = 1.\n",
    "```\n",
    "\n",
    "La valeur initiale de x est fixé à 1. On remarquera que l'on utilise une variable globable pour _x_ ce qui est une mauvaise pratique de programmation, mais qui nous simplifie l'écriture du programme ici.\n",
    "\n",
    "Définissons maintenant le code Python pour l'observation: on va conserver dans une liste _result_, les valeurs successives de _x_ au fur et à mesure de la simulation. Il faut également initialiser cette variable _result_ dans la fonction _initialize_:\n",
    "\n",
    "```python\n",
    "def initialize():\n",
    "    global x, result\n",
    "    x = 1.\n",
    "    result = [x]\n",
    "   \n",
    "def observe():\n",
    "    global x, result\n",
    "    result.append(x)\n",
    "```\n",
    "\n",
    "Enfin, il faut définir la fonction update qui va mettre à jour la valeur de _x_:\n",
    "\n",
    "\n",
    "```python\n",
    "def update():\n",
    "    global x, result\n",
    "    x = a * x\n",
    "```\n",
    "\n",
    "Le programme complet est le suivant :"
   ]
  },
  {
   "cell_type": "code",
   "execution_count": 2,
   "metadata": {
    "collapsed": false
   },
   "outputs": [
    {
     "name": "stdout",
     "output_type": "stream",
     "text": [
      "[1.0, 1.1, 1.2100000000000002, 1.3310000000000004, 1.4641000000000006, 1.6105100000000008, 1.771561000000001, 1.9487171000000014, 2.1435888100000016, 2.357947691000002, 2.5937424601000023, 2.853116706110003, 3.1384283767210035, 3.4522712143931042, 3.797498335832415, 4.177248169415656, 4.594972986357222, 5.054470284992944, 5.559917313492239, 6.115909044841463, 6.72749994932561, 7.400249944258172, 8.140274938683989, 8.954302432552389, 9.849732675807628, 10.834705943388391, 11.91817653772723, 13.109994191499954, 14.420993610649951, 15.863092971714948, 17.449402268886445]\n"
     ]
    }
   ],
   "source": [
    "a = 1.1\n",
    "\n",
    "def initialize():\n",
    "    global x, result\n",
    "    x = 1.\n",
    "    result = [x]\n",
    "\n",
    "def observe():\n",
    "    global x, result\n",
    "    result.append(x)\n",
    "\n",
    "def update():\n",
    "    global x, result\n",
    "    x = a * x\n",
    "\n",
    "initialize()\n",
    "for t in range(30):\n",
    "    update()\n",
    "    observe()\n",
    "print(result)"
   ]
  },
  {
   "cell_type": "markdown",
   "metadata": {},
   "source": [
    "Qu'est ce l'on observe au niveau de la variable _result_ ?\n",
    "\n",
    "Une meilleure façon de comprendre la dynamique de ce système est de plotter les résultats. Pour cela on utilise la librairie matplotlib de Python : \n"
   ]
  },
  {
   "cell_type": "code",
   "execution_count": 8,
   "metadata": {
    "collapsed": false
   },
   "outputs": [
    {
     "data": {
      "image/png": "[encoded data removed]",
      "text/plain": [
       "<matplotlib.figure.Figure at 0x10f338cf8>"
      ]
     },
     "metadata": {},
     "output_type": "display_data"
    }
   ],
   "source": [
    "%matplotlib inline \n",
    "from pylab import *\n",
    "a = 1.1\n",
    "\n",
    "def initialize():\n",
    "    global x, result\n",
    "    x = 1.\n",
    "    result = [x]\n",
    "\n",
    "def observe():\n",
    "    global x, result\n",
    "    result.append(x)\n",
    "\n",
    "def update():\n",
    "    global x, result\n",
    "    x=a*x\n",
    "\n",
    "initialize()\n",
    "for t in range(30):\n",
    "    update()\n",
    "    observe()\n",
    "plot(result)\n",
    "show()"
   ]
  },
  {
   "cell_type": "markdown",
   "metadata": {},
   "source": [
    "On reviendra sur la librairie matplotlib qui est très utile pour visualiser le comportement d'un système dynamique de manière graphique, un peu plus tard.\n",
    "\n",
    "Faites maintenant varier la valeur de $a$ pour voir quel type de comportement dans un système dynamique de ce type.\n",
    "\n",
    "Faites maintenant une simulation pour le système de récurrence suivant : \n",
    "$x(t) = a x(t-1) + b, x(0) = 1$\n",
    "\n",
    "Un tel système peut représenter par exemple la croissance d'une population de poisson qui croit avec un ration _a_ mais où l'on pêche $b$ poissons par unité de temps.\n",
    "Etudier la dynamique de ce système.\n",
    "\n",
    "Les systèmes dynamiques que nous avons construit jusqu'à présent ont une dynamique de croissance exponentielle. Est-il possible de construire un système dynamique dont la dynamique serait non seulement serait exponentielle mais également convergerait vers une population limite ?\n",
    "\n",
    "Il nous faut donc trouver une fonction f tel que : $x(t) = f(x(t-1))*x(t-1)$ tel que $f(x)$ doit être proche de $a$ lorsque la population est faible et $f(x)$ doit s'approcher de 1 lorsque un obtient un maximum que l'on va note $K$.\n",
    "\n",
    "La forme mathématique la plus simple pour $f$ qui respecte ces contraintes est : \n",
    "$f(x) = -(a-1)*x/K + a$\n",
    "\n",
    "Faire une simulation d'un tel système pour vérifier que l'on obtient bien une dynamique qui converge vers _K_.\n",
    "\n",
    "Un tel système dynamique est appellé modèle de [croissance logistique](https://fr.wikipedia.org/wiki/Fonction_logistique_(Verhulst) )."
   ]
  },
  {
   "cell_type": "code",
   "execution_count": 5,
   "metadata": {
    "collapsed": false
   },
   "outputs": [
    {
     "data": {
      "image/png": "[encoded data removed]",
      "text/plain": [
       "<matplotlib.figure.Figure at 0x10f369400>"
      ]
     },
     "metadata": {},
     "output_type": "display_data"
    }
   ],
   "source": [
    "%matplotlib inline \n",
    "from pylab import *\n",
    "a = 2.8\n",
    "K = 100\n",
    "def initialize():\n",
    "    global x, result\n",
    "    x = 1.0\n",
    "    result = [x]\n",
    "\n",
    "def observe():\n",
    "    global x, result\n",
    "    result.append(x)\n",
    "    \n",
    "def update():\n",
    "    global x, result\n",
    "    x = (-(a-1)*x/K + a)*x\n",
    "    \n",
    "initialize()\n",
    "for t in range(100):\n",
    "    update()\n",
    "    observe()\n",
    "plot(result)\n",
    "show()"
   ]
  },
  {
   "cell_type": "code",
   "execution_count": 11,
   "metadata": {
    "collapsed": true
   },
   "outputs": [],
   "source": [
    "def compute_neighbours(cells):\n",
    "    rows, cols = len(cells), len(cells[0])\n",
    "    count  = np.zeros([rows, cols], int)\n",
    "    for x in range(1,cols-1):\n",
    "        for y in range(1,rows-1):\n",
    "            count[y][x] = cells[y-1][x-1]+cells[y][x-1]+cells[y+1][x-1] \\\n",
    "                      + cells[y-1][x]              +cells[y+1][x]   \\\n",
    "                      + cells[y-1][x+1]+cells[y][x+1]+cells[y+1][x+1]\n",
    "    return count"
   ]
  },
  {
   "cell_type": "code",
   "execution_count": 12,
   "metadata": {
    "collapsed": true
   },
   "outputs": [],
   "source": [
    "def iterate(cells):\n",
    "    rows,cols = len(cells), len(cells[0])\n",
    "    N = compute_neighbours(cells)\n",
    "    for x in range(1,cols-1):\n",
    "        for y in range(1,rows-1):\n",
    "            if cells[y][x] == 1 and (N[y][x] < 2 or N[y][x] > 3):\n",
    "                cells[y][x] = 0\n",
    "            elif cells[y][x] == 0 and N[y][x] == 3:\n",
    "                cells[y][x] = 1\n",
    "    return cells\n",
    "\n",
    "cells = np.random.randint(0, 2, (256,512))\n",
    "\n",
    "for i in range(10):\n",
    "    iterate(cells)"
   ]
  },
  {
   "cell_type": "code",
   "execution_count": 7,
   "metadata": {
    "collapsed": false,
    "scrolled": true
   },
   "outputs": [
    {
     "ename": "NameError",
     "evalue": "name 'cells' is not defined",
     "output_type": "error",
     "traceback": [
      "\u001b[0;31m---------------------------------------------------------------------------\u001b[0m",
      "\u001b[0;31mNameError\u001b[0m                                 Traceback (most recent call last)",
      "\u001b[0;32m<ipython-input-7-d58004de116c>\u001b[0m in \u001b[0;36m<module>\u001b[0;34m()\u001b[0m\n\u001b[1;32m      1\u001b[0m \u001b[0;32mimport\u001b[0m \u001b[0mmatplotlib\u001b[0m\u001b[0;34m.\u001b[0m\u001b[0mpyplot\u001b[0m \u001b[0;32mas\u001b[0m \u001b[0mplt\u001b[0m\u001b[0;34m\u001b[0m\u001b[0m\n\u001b[1;32m      2\u001b[0m \u001b[0;34m\u001b[0m\u001b[0m\n\u001b[0;32m----> 3\u001b[0;31m \u001b[0msize\u001b[0m \u001b[0;34m=\u001b[0m \u001b[0mnp\u001b[0m\u001b[0;34m.\u001b[0m\u001b[0marray\u001b[0m\u001b[0;34m(\u001b[0m\u001b[0mcells\u001b[0m\u001b[0;34m.\u001b[0m\u001b[0mshape\u001b[0m\u001b[0;34m)\u001b[0m\u001b[0;34m\u001b[0m\u001b[0m\n\u001b[0m\u001b[1;32m      4\u001b[0m \u001b[0mdpi\u001b[0m \u001b[0;34m=\u001b[0m \u001b[0;36m72.0\u001b[0m\u001b[0;34m\u001b[0m\u001b[0m\n\u001b[1;32m      5\u001b[0m \u001b[0mfigsize\u001b[0m\u001b[0;34m=\u001b[0m \u001b[0msize\u001b[0m\u001b[0;34m[\u001b[0m\u001b[0;36m1\u001b[0m\u001b[0;34m]\u001b[0m\u001b[0;34m/\u001b[0m\u001b[0mfloat\u001b[0m\u001b[0;34m(\u001b[0m\u001b[0mdpi\u001b[0m\u001b[0;34m)\u001b[0m\u001b[0;34m,\u001b[0m\u001b[0msize\u001b[0m\u001b[0;34m[\u001b[0m\u001b[0;36m0\u001b[0m\u001b[0;34m]\u001b[0m\u001b[0;34m/\u001b[0m\u001b[0mfloat\u001b[0m\u001b[0;34m(\u001b[0m\u001b[0mdpi\u001b[0m\u001b[0;34m)\u001b[0m\u001b[0;34m\u001b[0m\u001b[0m\n",
      "\u001b[0;31mNameError\u001b[0m: name 'cells' is not defined"
     ]
    }
   ],
   "source": [
    "import matplotlib.pyplot as plt\n",
    "\n",
    "size = np.array(cells.shape)\n",
    "dpi = 72.0\n",
    "figsize= size[1]/float(dpi),size[0]/float(dpi)\n",
    "fig = plt.figure(figsize = figsize, dpi = dpi, facecolor = \"white\")\n",
    "fig.add_axes([0.0, 0.0, 1.0, 1.0], frameon = False)\n",
    "plt.imshow(cells, interpolation = 'nearest', cmap = plt.cm.gray_r)\n",
    "plt.xticks([]), plt.yticks([])\n",
    "plt.show()"
   ]
  },
  {
   "cell_type": "markdown",
   "metadata": {
    "collapsed": true
   },
   "source": [
    "$\\over{a}{b}$"
   ]
  },
  {
   "cell_type": "code",
   "execution_count": null,
   "metadata": {
    "collapsed": true
   },
   "outputs": [],
   "source": []
  }
 ],
 "metadata": {
  "kernelspec": {
   "display_name": "Python 3",
   "language": "python",
   "name": "python3"
  },
  "language_info": {
   "codemirror_mode": {
    "name": "ipython",
    "version": 3
   },
   "file_extension": ".py",
   "mimetype": "text/x-python",
   "name": "python",
   "nbconvert_exporter": "python",
   "pygments_lexer": "ipython3",
   "version": "3.6.0"
  }
 },
 "nbformat": 4,
 "nbformat_minor": 0
}
