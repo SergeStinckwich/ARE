{
 "cells": [
  {
   "cell_type": "markdown",
   "metadata": {},
   "source": [
    "# Simuler des sytèmes dynamiques en Python\n",
    "\n",
    "_Ce document est librement inspiré du [tutoriel NumPy de Nicolas Rougier](http://www.labri.fr/perso/nrougier/teaching/numpy/numpy.html) et est disponible avec son autorisation sous licence Creative Commons Attribution 3.0 United States License (CC-by) http://creativecommons.org/licenses/by/3.0/us_\n",
    "\n",
    "La simulation numérique (ou informatique) permet de représenter dans une machine (ordinateur) un phénomène écologique ou physique que l'on veut étudier à moindre coût et sans danger. \n",
    "\n",
    "\n",
    "## Systèmes dynamiques\n",
    "On va s'intéresser à la simulation de **système dynamiques**. Un système dynamique est un système dont l'état dépend uniquement par un ensemble de variables et dont le comportement est décrit par un ensemble de régles prédéfinies.\n",
    "\n",
    "Exemple de systèmes dynamiques: croissance d'une population, mouvement d'un pendule, déplacement des corps célestes, etc ...\n",
    "\n",
    "On distingue généralement deux types de simulation: ``simulation continue`` et ``simulation discrète`` :\n",
    "* Systèmes dynamiques discrets, généralement décrit par une équation de récurrence : $x(t) = F(x(t-1), t)$.\n",
    "Le principe d'une ``simulation discrète`` d'un phénonème physique ou écologique consiste à représenter l'état initial de la simulation, puis ensuite de construire une fonction qui à partir d'un état précédent va déterminer l'état suivant de la simulation.\n",
    "L'application de cette fonction permet de passer du temps t0 au temps t1, puis t2, etc ... Généralement, on arrrête la simulation au bout d'un certain nombre d'application de la fonction (n) déterminé à l'avance.\n",
    "\n",
    "* Systèmes dynamiques continus, généralement décrit par une ou plusieurs équations différentielles: $\\frac{dx}{dt} = F(x,t)$. Une ``simulation continue`` permet de représenter de manière continue les changements d'un système physique ou biologique. Généralement on emploie pour cela, des [équations différentielles](http://fr.wikipedia.org/wiki/%C3%89quation_diff%C3%A9rentielle).\n",
    "\n",
    "On ne va s'intéresser ici qu'à des simulations discrètes. Dans une simulation discrète, le temps est discrétisé en durée similaire. Chaque étape peut correspondre en fonction du phénomène considérée à une durée de 1 ms, 1s, 1 jour ou bien 1000 ans. Les systèmes dynamiques sont les plus simples à comprendre, représenter et simuler par un ordinateur. Ce ceux les systèmes qui nous intéresserons le plus ici.\n",
    "\n",
    "Commencons par simuler en Python un système dynamique constituée d'une seule variable.\n",
    "On va prendre l'équation de récurrence/ \n",
    "_x(t) = a x(t-1)_\n",
    "\n",
    "a est un paramètre qui représente le ratio entre l'état courant du système et l'état suivant. la simulation informatique va nous permettre de comprendre la dynamique d'un tel système.\n",
    "\n",
    "Afin de construire une simulation informatique, on a besoin de définir en général au moins 3 fonctions : \n",
    "\n",
    "- **initialize**: fonction afin de fixer les valeurs initiales de l'ensemble des variables du système dynamique\n",
    "- **observe**: fonction où l'on définit quels les états que l'on veut observer du système. On pourra par exemple afficher certaines variables ou bien faire un graphe\n",
    "- **update**: fonction de mise à jour des valeurs des variables en fonction de l'état courant.\n",
    "\n",
    "Voici un code Python pour l'initialisation:\n",
    "\n",
    "```python\n",
    "def initialize():\n",
    "    global x\n",
    "    x = 1.\n",
    "```\n",
    "\n",
    "La valeur initiale de x est fixé à 1. On remarquera que l'on utilise une variable globable pour _x_ ce qui est une mauvaise pratique de programmation, mais qui nous simplifie l'écriture du programme ici.\n",
    "\n",
    "Définissons maintenant le code Python pour l'observation: on va conserver dans une liste _result_, les valeurs successives de _x_ au fur et à mesure de la simulation. Il faut également initialiser cette variable _result_ dans la fonction _initialize_:\n",
    "\n",
    "```python\n",
    "def initialize():\n",
    "    global x, result\n",
    "    x = 1.\n",
    "    result = [x]\n",
    "   \n",
    "def observe():\n",
    "    global x, result\n",
    "    result.append(x)\n",
    "```\n",
    "\n",
    "Enfin, il faut définir la fonction update qui va mettre à jour la valeur de _x_:\n",
    "\n",
    "\n",
    "```python\n",
    "def update():\n",
    "    global x, result\n",
    "    x = a * x\n",
    "```\n",
    "\n",
    "Le programme complet est le suivant :"
   ]
  },
  {
   "cell_type": "code",
   "execution_count": 2,
   "metadata": {
    "collapsed": false
   },
   "outputs": [
    {
     "name": "stdout",
     "output_type": "stream",
     "text": [
      "[1.0, 1.1, 1.2100000000000002, 1.3310000000000004, 1.4641000000000006, 1.6105100000000008, 1.771561000000001, 1.9487171000000014, 2.1435888100000016, 2.357947691000002, 2.5937424601000023, 2.853116706110003, 3.1384283767210035, 3.4522712143931042, 3.797498335832415, 4.177248169415656, 4.594972986357222, 5.054470284992944, 5.559917313492239, 6.115909044841463, 6.72749994932561, 7.400249944258172, 8.140274938683989, 8.954302432552389, 9.849732675807628, 10.834705943388391, 11.91817653772723, 13.109994191499954, 14.420993610649951, 15.863092971714948, 17.449402268886445]\n"
     ]
    }
   ],
   "source": [
    "a = 1.1\n",
    "\n",
    "def initialize():\n",
    "    global x, result\n",
    "    x = 1.\n",
    "    result = [x]\n",
    "\n",
    "def observe():\n",
    "    global x, result\n",
    "    result.append(x)\n",
    "\n",
    "def update():\n",
    "    global x, result\n",
    "    x = a * x\n",
    "\n",
    "initialize()\n",
    "for t in range(30):\n",
    "    update()\n",
    "    observe()\n",
    "print(result)"
   ]
  },
  {
   "cell_type": "markdown",
   "metadata": {},
   "source": [
    "Qu'est ce l'on observe au niveau de la variable _result_ ?\n",
    "\n",
    "Une meilleure façon de comprendre la dynamique de ce système est de plotter les résultats. Pour cela on utilise la librairie matplotlib de Python : \n"
   ]
  },
  {
   "cell_type": "code",
   "execution_count": 8,
   "metadata": {
    "collapsed": false
   },
   "outputs": [
    {
     "data": {
      "image/png": "[encoded data removed]",
      "text/plain": [
       "<matplotlib.figure.Figure at 0x10f338cf8>"
      ]
     },
     "metadata": {},
     "output_type": "display_data"
    }
   ],
   "source": [
    "%matplotlib inline \n",
    "from pylab import *\n",
    "a = 1.1\n",
    "\n",
    "def initialize():\n",
    "    global x, result\n",
    "    x = 1.\n",
    "    result = [x]\n",
    "\n",
    "def observe():\n",
    "    global x, result\n",
    "    result.append(x)\n",
    "\n",
    "def update():\n",
    "    global x, result\n",
    "    x=a*x\n",
    "\n",
    "initialize()\n",
    "for t in range(30):\n",
    "    update()\n",
    "    observe()\n",
    "plot(result)\n",
    "show()"
   ]
  },
  {
   "cell_type": "markdown",
   "metadata": {},
   "source": [
    "On reviendra sur la librairie matplotlib qui est très utile pour visualiser le comportement d'un système dynamique de manière graphique, un peu plus tard.\n",
    "\n",
    "Faites maintenant varier la valeur de $a$ pour voir quel type de comportement dans un système dynamique de ce type.\n",
    "\n",
    "Faites maintenant une simulation pour le système de récurrence suivant : \n",
    "$x(t) = a x(t-1) + b, x(0) = 1$\n",
    "\n",
    "Un tel système peut représenter par exemple la croissance d'une population de poisson qui croit avec un ration _a_ mais où l'on pêche $b$ poissons par unité de temps.\n",
    "Etudier la dynamique de ce système.\n",
    "\n",
    "Les systèmes dynamiques que nous avons construit jusqu'à présent ont une dynamique de croissance exponentielle. Est-il possible de construire un système dynamique dont la dynamique serait non seulement serait exponentielle mais également convergerait vers une population limite ?\n",
    "\n",
    "Il nous faut donc trouver une fonction f tel que : $x(t) = f(x(t-1))*x(t-1)$ tel que $f(x)$ doit être proche de $a$ lorsque la population est faible et $f(x)$ doit s'approcher de 1 lorsque un obtient un maximum que l'on va note $K$.\n",
    "\n",
    "La forme mathématique la plus simple pour $f$ qui respecte ces contraintes est : \n",
    "$f(x) = -(a-1)*x/K + a$\n",
    "\n",
    "Faire une simulation d'un tel système pour vérifier que l'on obtient bien une dynamique qui converge vers _K_.\n",
    "\n",
    "Un tel système dynamique est appellé modèle de **croissance logistique** : https://fr.wikipedia.org/wiki/Fonction_logistique_(Verhulst)"
   ]
  },
  {
   "cell_type": "code",
   "execution_count": 12,
   "metadata": {
    "collapsed": false
   },
   "outputs": [
    {
     "data": {
      "image/png": "[encoded data removed]",
      "text/plain": [
       "<matplotlib.figure.Figure at 0x10f79d4e0>"
      ]
     },
     "metadata": {},
     "output_type": "display_data"
    }
   ],
   "source": [
    "%matplotlib inline \n",
    "from pylab import *\n",
    "a = 2.99\n",
    "K = 100\n",
    "def initialize():\n",
    "    global x, result\n",
    "    x = 1.0\n",
    "    result = [x]\n",
    "\n",
    "def observe():\n",
    "    global x, result\n",
    "    result.append(x)\n",
    "    \n",
    "def update():\n",
    "    global x, result\n",
    "    x = (-(a-1)*x/K + a)*x\n",
    "    \n",
    "initialize()\n",
    "for t in range(100):\n",
    "    update()\n",
    "    observe()\n",
    "plot(result)\n",
    "show()"
   ]
  },
  {
   "cell_type": "markdown",
   "metadata": {},
   "source": [
    "## Le Jeu de la Vie\n",
    "Prenons maintenant un exemple plus complexes de simulation, celui d'un phénonème écologique representant l'évolution de cellules qui naissent ou qui meurent au cours du temps: le jeu de la Vie.\n",
    "Le [Jeu de la Vie](https://fr.wikipedia.org/wiki/Jeu_de_la_vie) est un des premiers exemples\n",
    "d automates cellulaires (voir figure ci-dessous) construit par John Conway en 1970. Ces automates cellulaires peuvent être considérés comme un tableau de cellules qui sont connectées les unes aux autres par la notion\n",
    "de voisinage.\n",
    "\n",
    "Ce \"jeu\" est un fait un jeu à zéro joueur, car son évolution est déterminé uniquement par son état inital et ne nécessite pas d'entrées de joueurs humains. La seule façon d'interagir avec un Jeu de la Vie est de créer une configuration initiale et d'observer comment elle évolue au cours du temps.\n",
    "\n",
    "L'univers (ou l'état) du Jeu de la Live est une grille à deux dimensions de taille infinie, composé de cellules carrées. Chaque cellule peut contenir l'un des deux états possibles: vivant ou mort, que l'on représente par les valeurs entières 0 ou 1.\n",
    "\n",
    "![image](http://www.labri.fr/perso/nrougier/teaching/numpy/figures/game-of-life.png)\n",
    "\n",
    "Chaque cellule interagit avec ces 8 voisins, qui sont les cellules directement adjacentes horizontalement, verticalement et en diagonale. A chaque étape du temps, les règles suivantes vont s'appliquer :\n",
    "\n",
    "1. Une cellule vivante avec moins de deux voisines vivantes, meurt d'isolement,\n",
    "2. Une cellule vivante avec plus de 3 cellules voisines vivantes, meurt d'étouffement,\n",
    "3. Une cellule vivante avec 2 ou 3 cellules voisines vivantes, reste inchangée à la prochaine génération,\n",
    "4. Une cellule morte avec exactement 3 cellules vivantes, devient une cellule vivante.\n",
    "\n",
    "L'état de départ est constitué par une forme initiale. La première génération est créér en appliquant les règles ci-dessus simultanément à toutes les cellules de l'état de départ: naissances et morts sont effectués simultanément, and le moment où cela se déroule est appellé tick (de simulation). Les règles continuent d'être appliquées pour créer les futures générations.\n",
    "\n",
    "Pour commencer, nous allons utiliser un état de départ très simple, appellé \"planeur\" (glider) qui est connu pour se déplacer diagonalement au bout de 4 itérations comme indiqué ci-dessous :\n",
    "\n",
    "![image](http://www.labri.fr/perso/nrougier/teaching/numpy/figures/glider-00.png)\n",
    "![image](http://www.labri.fr/perso/nrougier/teaching/numpy/figures/glider-01.png)\n",
    "![image](http://www.labri.fr/perso/nrougier/teaching/numpy/figures/glider-02.png)\n",
    "![image](http://www.labri.fr/perso/nrougier/teaching/numpy/figures/glider-03.png)\n",
    "![image](http://www.labri.fr/perso/nrougier/teaching/numpy/figures/glider-04.png)\n",
    "![image](http://www.labri.fr/perso/nrougier/teaching/numpy/figures/glider-05.png)\n",
    "\n",
    "Cette propriété va nous permettre de débogguer visuellement plus facilement nos programmes.\n",
    "\n",
    "La première question à se poser pour faire cette simulation est comment représenter un état, ici l'ensemble des cellules à un instant donné. En Python, il est possible d'utiliser le type list ou array pour représenter des tableaux a une ou plusieurs dimensions.\n",
    "\n",
    "La bibliothèque scientifique ``NumPy`` est une alternative qui permet de manipuler très efficacemment des tableaux de grande taille en Python: http://www.numpy.org/\n",
    "\n",
    "La première chose à faire est de créer un tableau NumPy afin de contenir les cellules (``cells``). Ceci peut être fait facilement de la façon suivante :\n",
    "\n"
   ]
  },
  {
   "cell_type": "code",
   "execution_count": 41,
   "metadata": {
    "collapsed": false
   },
   "outputs": [],
   "source": [
    "import numpy as np\n",
    "cells = np.array([[0,0,0,0,0,0],\n",
    "              [0,0,0,1,0,0],\n",
    "              [0,1,0,1,0,0],\n",
    "              [0,0,1,1,0,0],\n",
    "              [0,0,0,0,0,0],\n",
    "              [0,0,0,0,0,0]])"
   ]
  },
  {
   "cell_type": "markdown",
   "metadata": {},
   "source": [
    "Affichons le contenu de la variable _cells_ :"
   ]
  },
  {
   "cell_type": "code",
   "execution_count": 22,
   "metadata": {
    "collapsed": false
   },
   "outputs": [
    {
     "name": "stdout",
     "output_type": "stream",
     "text": [
      "[[0 0 0 0 0 0]\n",
      " [0 0 0 1 0 0]\n",
      " [0 1 0 1 0 0]\n",
      " [0 0 1 1 0 0]\n",
      " [0 0 0 0 0 0]\n",
      " [0 0 0 0 0 0]]\n"
     ]
    }
   ],
   "source": [
    "print(cells)"
   ]
  },
  {
   "cell_type": "markdown",
   "metadata": {},
   "source": [
    "\n",
    "Il existe de nombreuses autres façons de créer un tableau NumPy : http://docs.scipy.org/doc/numpy/reference/routines.array-creation.html\n",
    "\n",
    "Notez que nous n'avons pas spécifié le type des données contenues dans le tableau, NumPy a choisi pour nous. Comme tous les éléments sont des entiers, NumPy a choisi le type entier (integer). Ceci peut se vérifier facilement :\n"
   ]
  },
  {
   "cell_type": "code",
   "execution_count": 23,
   "metadata": {
    "collapsed": false
   },
   "outputs": [
    {
     "name": "stdout",
     "output_type": "stream",
     "text": [
      "int64\n"
     ]
    }
   ],
   "source": [
    "print(cells.dtype)"
   ]
  },
  {
   "cell_type": "markdown",
   "metadata": {},
   "source": [
    "\n",
    "On peut facilement vérifier la taille d'un tableau, ici par exemple 6x6 :\n"
   ]
  },
  {
   "cell_type": "code",
   "execution_count": null,
   "metadata": {
    "collapsed": true
   },
   "outputs": [],
   "source": [
    "print(cells.shape)\n"
   ]
  },
  {
   "cell_type": "markdown",
   "metadata": {},
   "source": [
    "\n",
    "Chaque élément de ``cells`` peut être accédé en utilisant un index de ligne et de colonne (en suivant cet ordre) :\n"
   ]
  },
  {
   "cell_type": "code",
   "execution_count": null,
   "metadata": {
    "collapsed": true
   },
   "outputs": [],
   "source": [
    "print(cells[0,5])"
   ]
  },
  {
   "cell_type": "markdown",
   "metadata": {},
   "source": [
    "\n",
    "Il est également possible d'accéder à une sous-partie d'un tableau, en utilsant la notation dite slice :\n"
   ]
  },
  {
   "cell_type": "code",
   "execution_count": null,
   "metadata": {
    "collapsed": true
   },
   "outputs": [],
   "source": [
    "print(cells[1:5,1:5])\n",
    "[[0 0 1 0]\n",
    " [1 0 1 0]\n",
    " [0 1 1 0]\n",
    " [0 0 0 0]]"
   ]
  },
  {
   "cell_type": "markdown",
   "metadata": {},
   "source": [
    "\n",
    "Dans l'exemple ci-dessous, nous avons extrait une sous-partie de ``cells`` de la ligne 1 à 5 et de la collonne 1 à 5. Il est important de bien comprendre qu'il s'agit vraiment d'une sous-ensemble de ``cells`` dans le sens où chaque modification de la sous-partie va avoir un impact direct sur ``cells`` :\n"
   ]
  },
  {
   "cell_type": "code",
   "execution_count": 26,
   "metadata": {
    "collapsed": false
   },
   "outputs": [
    {
     "name": "stdout",
     "output_type": "stream",
     "text": [
      "[[9 0 1 0]\n",
      " [1 0 1 0]\n",
      " [0 1 1 0]\n",
      " [0 0 0 0]]\n"
     ]
    }
   ],
   "source": [
    "a = cells[1:5,1:5]\n",
    "a[0,0] = 9\n",
    "print(a)"
   ]
  },
  {
   "cell_type": "code",
   "execution_count": 25,
   "metadata": {
    "collapsed": false
   },
   "outputs": [
    {
     "name": "stdout",
     "output_type": "stream",
     "text": [
      "[[0 0 0 0 0 0]\n",
      " [0 0 0 1 0 0]\n",
      " [0 1 0 1 0 0]\n",
      " [0 0 1 1 0 0]\n",
      " [0 0 0 0 0 0]\n",
      " [0 0 0 0 0 0]]\n"
     ]
    }
   ],
   "source": [
    "print(cells)"
   ]
  },
  {
   "cell_type": "markdown",
   "metadata": {},
   "source": [
    "\n",
    "Nous avons modifié la valeur de ``a[0,0]`` à 9 et nous voyons un changement immédiat dans ``cells[1,1]`` parce que ``a[0,0]`` correspond à ``cells[1,1]``. Ceci peut paraître trivial avec des tableaux si simples, mais les choses peuvent devenir plus complexe comme nous le verrons plus tard. En cas de doute, il possible de vérifier rapidement, si un tableau est une partie d'un autre :\n"
   ]
  },
  {
   "cell_type": "code",
   "execution_count": 30,
   "metadata": {
    "collapsed": false
   },
   "outputs": [
    {
     "name": "stdout",
     "output_type": "stream",
     "text": [
      "None\n"
     ]
    }
   ],
   "source": [
    "print(cells.base)"
   ]
  },
  {
   "cell_type": "code",
   "execution_count": 29,
   "metadata": {
    "collapsed": false
   },
   "outputs": [
    {
     "name": "stdout",
     "output_type": "stream",
     "text": [
      "True\n"
     ]
    }
   ],
   "source": [
    "print(a.base is cells)"
   ]
  },
  {
   "cell_type": "markdown",
   "metadata": {},
   "source": [
    "N'oublions pas de remettre la valeur de a[0,0] à 0 :"
   ]
  },
  {
   "cell_type": "code",
   "execution_count": 31,
   "metadata": {
    "collapsed": true
   },
   "outputs": [],
   "source": [
    "a[0,0] = 0"
   ]
  },
  {
   "cell_type": "markdown",
   "metadata": {},
   "source": [
    "### Compter les voisins\n",
    "Nous avons besoin d'une fonction pour compter les voisins d'une cellule.\n"
   ]
  },
  {
   "cell_type": "code",
   "execution_count": 38,
   "metadata": {
    "collapsed": true
   },
   "outputs": [],
   "source": [
    "def compute_neighbours(cells):\n",
    "    rows, cols = len(cells), len(cells[0])\n",
    "    count  = np.zeros([rows, cols], int)\n",
    "    for x in range(1,cols-1):\n",
    "        for y in range(1,rows-1):\n",
    "            count[y][x] = cells[y-1][x-1]+cells[y][x-1]+cells[y+1][x-1] \\\n",
    "                      + cells[y-1][x]              +cells[y+1][x]   \\\n",
    "                      + cells[y-1][x+1]+cells[y][x+1]+cells[y+1][x+1]\n",
    "    return count"
   ]
  },
  {
   "cell_type": "markdown",
   "metadata": {},
   "source": [
    "Appliquons cette fonction sur notre tableau _cells_:"
   ]
  },
  {
   "cell_type": "code",
   "execution_count": 37,
   "metadata": {
    "collapsed": false
   },
   "outputs": [
    {
     "data": {
      "text/plain": [
       "array([[0, 0, 0, 0, 0, 0],\n",
       "       [0, 1, 3, 1, 2, 0],\n",
       "       [0, 1, 5, 3, 3, 0],\n",
       "       [0, 2, 3, 2, 2, 0],\n",
       "       [0, 1, 2, 2, 1, 0],\n",
       "       [0, 0, 0, 0, 0, 0]])"
      ]
     },
     "execution_count": 37,
     "metadata": {},
     "output_type": "execute_result"
    }
   ],
   "source": [
    "compute_neighbours(cells)"
   ]
  },
  {
   "cell_type": "markdown",
   "metadata": {},
   "source": [
    "Avec NumPy, il est possible d'utiliser des opérations qui portent sur l'ensemble du tableau, plutôt que faire des itérations, ce que l'on appelle la **vectorisation**. Voir version ici : http://www.labri.fr/perso/nrougier/teaching/numpy/numpy.html#the-game-of-life\n",
    "\n",
    "### Faire des itérations\n",
    "\n",
    "Construisons la fonction ``iterate`` qui permet d'application les règles sur ``cells`` pour produire une nouvelle génération.\n"
   ]
  },
  {
   "cell_type": "code",
   "execution_count": 42,
   "metadata": {
    "collapsed": true
   },
   "outputs": [],
   "source": [
    "def iterate(cells):\n",
    "    rows,cols = len(cells), len(cells[0])\n",
    "    N = compute_neighbours(cells)\n",
    "    for x in range(1,cols-1):\n",
    "        for y in range(1,rows-1):\n",
    "            if cells[y][x] == 1 and (N[y][x] < 2 or N[y][x] > 3):\n",
    "                cells[y][x] = 0\n",
    "            elif cells[y][x] == 0 and N[y][x] == 3:\n",
    "                cells[y][x] = 1\n",
    "    return cells"
   ]
  },
  {
   "cell_type": "markdown",
   "metadata": {},
   "source": [
    "Appliquons la fonction iterate sur le tableau ``cells`` définit précédemment.\n"
   ]
  },
  {
   "cell_type": "code",
   "execution_count": 44,
   "metadata": {
    "collapsed": false
   },
   "outputs": [
    {
     "data": {
      "text/plain": [
       "array([[0, 0, 1, ..., 1, 0, 0],\n",
       "       [1, 1, 0, ..., 0, 1, 1],\n",
       "       [1, 0, 0, ..., 1, 1, 0],\n",
       "       ..., \n",
       "       [0, 0, 0, ..., 1, 1, 0],\n",
       "       [0, 0, 0, ..., 0, 1, 0],\n",
       "       [0, 1, 0, ..., 0, 0, 1]])"
      ]
     },
     "execution_count": 44,
     "metadata": {},
     "output_type": "execute_result"
    }
   ],
   "source": [
    "iterate(cells)"
   ]
  },
  {
   "cell_type": "markdown",
   "metadata": {},
   "source": [
    "**Question: Expliquer comment la fonction ``iterate`` fonctionne ?**"
   ]
  },
  {
   "cell_type": "markdown",
   "metadata": {},
   "source": [
    "### Lancer une simulation\n",
    "Essayons de lancer le Jeu de la Vie sur une grille beaucoup plus grande.\n",
    "Pour cela générons une grille remplie de 0 et 1 placé de manière aléatoire.\n",
    "\n",
    "La bibliothèque ``random`` permet de générer des nombres aléatoires.\n",
    "Voir documentation ici: https://docs.python.org/3/library/random.html\n",
    "\n",
    "Quelques unes des fonctions les plus utiles sont :\n",
    "\n",
    "* ``random.seed()`` : permet d'initialiser le générateur de nombres aléatoires\n",
    "* ``random.random()`` : retourne un nombre réél aléatoire dans l'intervalle [0, 1]\n",
    "* ``random.randrange(a,b)``: retourne un nombre entier compris entre a et b (inclus).\n",
    "\n",
    "**Question: Pourquoi les nombres générés par cette bibliothèque sont des nombres pseudo-aléatoires ?**\n",
    "\n",
    "La bibliothèque NumPy complète la bibliothèque ``random`` par des fonctions comme la fonction ``np.random.randint`` qui permet de générer des nombres aléatoires pour remplir un tableau (voir documentation ici : http://docs.scipy.org/doc/numpy/reference/routines.random.html) :\n"
   ]
  },
  {
   "cell_type": "code",
   "execution_count": 47,
   "metadata": {
    "collapsed": false
   },
   "outputs": [
    {
     "name": "stdout",
     "output_type": "stream",
     "text": [
      "[[1 1 1 ..., 0 0 0]\n",
      " [1 1 1 ..., 0 1 0]\n",
      " [0 0 1 ..., 0 1 1]\n",
      " ..., \n",
      " [0 0 0 ..., 1 0 0]\n",
      " [0 1 1 ..., 0 0 0]\n",
      " [1 1 0 ..., 0 0 1]]\n"
     ]
    }
   ],
   "source": [
    "cells = np.random.randint(0, 2, (256,512))\n",
    "print(cells)"
   ]
  },
  {
   "cell_type": "markdown",
   "metadata": {},
   "source": [
    "**Question: donner une explication des paramètres de la fonction ``np.random.randint`` ?**\n",
    "\n",
    "Effectuons 10 itérations :"
   ]
  },
  {
   "cell_type": "code",
   "execution_count": 46,
   "metadata": {
    "collapsed": true
   },
   "outputs": [],
   "source": [
    "for i in range(10):\n",
    "    iterate(cells)"
   ]
  },
  {
   "cell_type": "markdown",
   "metadata": {},
   "source": [
    "\n",
    "et affichons les résultats :\n"
   ]
  },
  {
   "cell_type": "code",
   "execution_count": 43,
   "metadata": {
    "collapsed": false,
    "scrolled": true
   },
   "outputs": [
    {
     "data": {
      "image/png": "[encoded data removed]",
      "text/plain": [
       "<matplotlib.figure.Figure at 0x10f37c390>"
      ]
     },
     "metadata": {},
     "output_type": "display_data"
    }
   ],
   "source": [
    "import matplotlib.pyplot as plt\n",
    "\n",
    "size = np.array(cells.shape)\n",
    "dpi = 72.0\n",
    "figsize= size[1]/float(dpi),size[0]/float(dpi)\n",
    "fig = plt.figure(figsize = figsize, dpi = dpi, facecolor = \"white\")\n",
    "fig.add_axes([0.0, 0.0, 1.0, 1.0], frameon = False)\n",
    "plt.imshow(cells, interpolation = 'nearest', cmap = plt.cm.gray_r)\n",
    "plt.xticks([]), plt.yticks([])\n",
    "plt.show()\n"
   ]
  },
  {
   "cell_type": "markdown",
   "metadata": {},
   "source": [
    "Nous utilisons pour l'affichage la bibliothèque Matplotlib que nous aborderons plus en détail dans la prochaine fiche.\n",
    "\n",
    "Le Jeu de Vie a généré beaucoup de travaux scientifiques pour identifier des formes stables notamment. Vous trouverez sur ce site un catalogue des formes qui peuvent apparaître dans un Jeu de la Vie (glider, spaceships, etc ..):\n",
    "http://www.conwaylife.com/wiki/Main_Page\n",
    "\n",
    "Il est même possible d'exécuter une simulation du Jeu de la Vie dans un Jeu de la Vie:\n",
    "https://www.youtube.com/watch?v=xP5-iIeKXE8\n",
    "\n",
    "Cela ne rappelle pas un [film](https://fr.wikipedia.org/wiki/Inception) ?\n",
    "\n"
   ]
  }
 ],
 "metadata": {
  "kernelspec": {
   "display_name": "Python 3",
   "language": "python",
   "name": "python3"
  },
  "language_info": {
   "codemirror_mode": {
    "name": "ipython",
    "version": 3
   },
   "file_extension": ".py",
   "mimetype": "text/x-python",
   "name": "python",
   "nbconvert_exporter": "python",
   "pygments_lexer": "ipython3",
   "version": "3.6.0"
  }
 },
 "nbformat": 4,
 "nbformat_minor": 0
}
